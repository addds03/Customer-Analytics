{
 "cells": [
  {
   "cell_type": "markdown",
   "metadata": {},
   "source": [
    "## Library Imports"
   ]
  },
  {
   "cell_type": "code",
   "execution_count": 55,
   "metadata": {},
   "outputs": [],
   "source": [
    "import numpy as np\n",
    "import pandas as pd\n",
    "import scipy\n",
    "import pickle\n",
    "import matplotlib.pyplot as plt\n",
    "import matplotlib.axes as axs\n",
    "import seaborn as sns\n",
    "sns.set()\n",
    "\n",
    "from sklearn.linear_model import LogisticRegression, LinearRegression\n",
    "from sklearn.preprocessing import StandardScaler\n",
    "from sklearn.decomposition import PCA\n",
    "from sklearn.cluster import KMeans"
   ]
  },
  {
   "cell_type": "code",
   "execution_count": 2,
   "metadata": {},
   "outputs": [],
   "source": [
    "df_purchase = pd.read_csv('../Data/purchase data.csv')"
   ]
  },
  {
   "cell_type": "markdown",
   "metadata": {},
   "source": [
    "### Import Segmentation model"
   ]
  },
  {
   "cell_type": "code",
   "execution_count": 3,
   "metadata": {},
   "outputs": [],
   "source": [
    "scaler = pickle.load(open('../Model/scaler.pickle','rb'))\n",
    "\n",
    "pca = pickle.load(open('../Model/pca.pickle','rb'))\n",
    "\n",
    "kmeans_pca = pickle.load(open('../Model/kmeans_pca.pickle','rb'))"
   ]
  },
  {
   "cell_type": "code",
   "execution_count": 4,
   "metadata": {},
   "outputs": [],
   "source": [
    "features = df_purchase[['Sex', 'Marital status', 'Age', 'Education', 'Income','Occupation', 'Settlement size']]\n",
    "\n",
    "# Standardizing the data\n",
    "df_purchase_seg_std = scaler.transform(features)\n",
    "\n",
    "# Dimensionality Reduction\n",
    "df_purchase_seg_pca = pca.transform(df_purchase_seg_std)\n",
    "\n",
    "# Clustering the data\n",
    "df_purchase_seg_kmeans_pca = kmeans_pca.predict(df_purchase_seg_pca)"
   ]
  },
  {
   "cell_type": "code",
   "execution_count": 5,
   "metadata": {},
   "outputs": [],
   "source": [
    "df_purchase_predictors = df_purchase.copy()\n",
    "\n",
    "df_purchase_predictors['Segment'] = df_purchase_seg_kmeans_pca"
   ]
  },
  {
   "cell_type": "code",
   "execution_count": 6,
   "metadata": {},
   "outputs": [],
   "source": [
    "# converting categorical variable to numeric\n",
    "segment_dummies = pd.get_dummies(df_purchase_seg_kmeans_pca, prefix = 'Segment', prefix_sep='_')\n",
    "\n",
    "df_purchase_predictors = pd.concat([df_purchase_predictors, segment_dummies], axis=1)\n",
    "\n",
    "df_pa = df_purchase_predictors"
   ]
  },
  {
   "cell_type": "markdown",
   "metadata": {},
   "source": [
    "## Purchase Probability Model"
   ]
  },
  {
   "cell_type": "code",
   "execution_count": 7,
   "metadata": {},
   "outputs": [],
   "source": [
    "Y = df_pa['Incidence']"
   ]
  },
  {
   "cell_type": "code",
   "execution_count": 8,
   "metadata": {},
   "outputs": [],
   "source": [
    "X = pd.DataFrame()\n",
    "X['Mean_Price'] = (df_pa['Price_1'] +\n",
    "                   df_pa['Price_2'] +\n",
    "                   df_pa['Price_3'] +\n",
    "                   df_pa['Price_4'] +\n",
    "                   df_pa['Price_5']) / 5"
   ]
  },
  {
   "cell_type": "code",
   "execution_count": 9,
   "metadata": {},
   "outputs": [
    {
     "data": {
      "text/plain": [
       "LogisticRegression(solver='sag')"
      ]
     },
     "execution_count": 9,
     "metadata": {},
     "output_type": "execute_result"
    }
   ],
   "source": [
    "model_purchase = LogisticRegression(solver='sag')\n",
    "model_purchase.fit(X,Y)"
   ]
  },
  {
   "cell_type": "code",
   "execution_count": 10,
   "metadata": {},
   "outputs": [
    {
     "data": {
      "text/plain": [
       "array([[-2.35322021]])"
      ]
     },
     "execution_count": 10,
     "metadata": {},
     "output_type": "execute_result"
    }
   ],
   "source": [
    "model_purchase.coef_"
   ]
  },
  {
   "cell_type": "markdown",
   "metadata": {},
   "source": [
    "*Price is Inversely proportional to the purchase probability, nothing new.*"
   ]
  },
  {
   "cell_type": "markdown",
   "metadata": {},
   "source": [
    "### Price Elasticity of Purchase Probability"
   ]
  },
  {
   "cell_type": "code",
   "execution_count": 11,
   "metadata": {},
   "outputs": [
    {
     "data": {
      "text/html": [
       "<div>\n",
       "<style scoped>\n",
       "    .dataframe tbody tr th:only-of-type {\n",
       "        vertical-align: middle;\n",
       "    }\n",
       "\n",
       "    .dataframe tbody tr th {\n",
       "        vertical-align: top;\n",
       "    }\n",
       "\n",
       "    .dataframe thead th {\n",
       "        text-align: right;\n",
       "    }\n",
       "</style>\n",
       "<table border=\"1\" class=\"dataframe\">\n",
       "  <thead>\n",
       "    <tr style=\"text-align: right;\">\n",
       "      <th></th>\n",
       "      <th>Price_1</th>\n",
       "      <th>Price_2</th>\n",
       "      <th>Price_3</th>\n",
       "      <th>Price_4</th>\n",
       "      <th>Price_5</th>\n",
       "    </tr>\n",
       "  </thead>\n",
       "  <tbody>\n",
       "    <tr>\n",
       "      <th>count</th>\n",
       "      <td>58693.000000</td>\n",
       "      <td>58693.000000</td>\n",
       "      <td>58693.000000</td>\n",
       "      <td>58693.000000</td>\n",
       "      <td>58693.000000</td>\n",
       "    </tr>\n",
       "    <tr>\n",
       "      <th>mean</th>\n",
       "      <td>1.392074</td>\n",
       "      <td>1.780999</td>\n",
       "      <td>2.006789</td>\n",
       "      <td>2.159945</td>\n",
       "      <td>2.654798</td>\n",
       "    </tr>\n",
       "    <tr>\n",
       "      <th>std</th>\n",
       "      <td>0.091139</td>\n",
       "      <td>0.170868</td>\n",
       "      <td>0.046867</td>\n",
       "      <td>0.089825</td>\n",
       "      <td>0.098272</td>\n",
       "    </tr>\n",
       "    <tr>\n",
       "      <th>min</th>\n",
       "      <td>1.100000</td>\n",
       "      <td>1.260000</td>\n",
       "      <td>1.870000</td>\n",
       "      <td>1.760000</td>\n",
       "      <td>2.110000</td>\n",
       "    </tr>\n",
       "    <tr>\n",
       "      <th>25%</th>\n",
       "      <td>1.340000</td>\n",
       "      <td>1.580000</td>\n",
       "      <td>1.970000</td>\n",
       "      <td>2.120000</td>\n",
       "      <td>2.630000</td>\n",
       "    </tr>\n",
       "    <tr>\n",
       "      <th>50%</th>\n",
       "      <td>1.390000</td>\n",
       "      <td>1.880000</td>\n",
       "      <td>2.010000</td>\n",
       "      <td>2.170000</td>\n",
       "      <td>2.670000</td>\n",
       "    </tr>\n",
       "    <tr>\n",
       "      <th>75%</th>\n",
       "      <td>1.470000</td>\n",
       "      <td>1.890000</td>\n",
       "      <td>2.060000</td>\n",
       "      <td>2.240000</td>\n",
       "      <td>2.700000</td>\n",
       "    </tr>\n",
       "    <tr>\n",
       "      <th>max</th>\n",
       "      <td>1.590000</td>\n",
       "      <td>1.900000</td>\n",
       "      <td>2.140000</td>\n",
       "      <td>2.260000</td>\n",
       "      <td>2.800000</td>\n",
       "    </tr>\n",
       "  </tbody>\n",
       "</table>\n",
       "</div>"
      ],
      "text/plain": [
       "            Price_1       Price_2       Price_3       Price_4       Price_5\n",
       "count  58693.000000  58693.000000  58693.000000  58693.000000  58693.000000\n",
       "mean       1.392074      1.780999      2.006789      2.159945      2.654798\n",
       "std        0.091139      0.170868      0.046867      0.089825      0.098272\n",
       "min        1.100000      1.260000      1.870000      1.760000      2.110000\n",
       "25%        1.340000      1.580000      1.970000      2.120000      2.630000\n",
       "50%        1.390000      1.880000      2.010000      2.170000      2.670000\n",
       "75%        1.470000      1.890000      2.060000      2.240000      2.700000\n",
       "max        1.590000      1.900000      2.140000      2.260000      2.800000"
      ]
     },
     "execution_count": 11,
     "metadata": {},
     "output_type": "execute_result"
    }
   ],
   "source": [
    "df_pa[['Price_1','Price_2','Price_3','Price_4','Price_5']].describe()"
   ]
  },
  {
   "cell_type": "code",
   "execution_count": 12,
   "metadata": {},
   "outputs": [],
   "source": [
    "price_range = np.arange(0.5,3.5,0.01)\n",
    "\n",
    "df_price_range = pd.DataFrame(price_range)"
   ]
  },
  {
   "cell_type": "code",
   "execution_count": 13,
   "metadata": {},
   "outputs": [],
   "source": [
    "df_pe = pd.DataFrame(price_range)\n",
    "df_pe = df_pe.rename(columns = {0:'Price_point'})"
   ]
  },
  {
   "cell_type": "markdown",
   "metadata": {},
   "source": [
    "$Elasticity = {\\frac {\\frac{\\delta Pr(purchase)}{Pr(purchase)}} {\\frac{\\delta Price}{Price}}} $\n",
    "\n",
    "\n",
    "$ Elasticity = {\\beta} * price * (1- Pr(purchase) $"
   ]
  },
  {
   "cell_type": "markdown",
   "metadata": {},
   "source": [
    "### By Segment"
   ]
  },
  {
   "cell_type": "code",
   "execution_count": 14,
   "metadata": {},
   "outputs": [],
   "source": [
    "def elasticity_per_segment(df, price_range, df_price_range, df_pe):\n",
    "    \n",
    "    col_name = ''\n",
    "    for i in range(-1,4):\n",
    "        if i != -1:\n",
    "            temp = df[df['Segment'] == i]\n",
    "            col_name = 'PE_S'+str(i)\n",
    "        else:\n",
    "            temp = df\n",
    "            col_name = 'Mean_PE'\n",
    "\n",
    "        Y = temp['Incidence']\n",
    "\n",
    "        X = pd.DataFrame()\n",
    "        X['Mean_Price'] = (temp['Price_1'] +\n",
    "                           temp['Price_2'] +\n",
    "                           temp['Price_3'] +\n",
    "                           temp['Price_4'] +\n",
    "                           temp['Price_5']) / 5\n",
    "\n",
    "        model_purchase = LogisticRegression(solver='sag')\n",
    "        model_purchase.fit(X,Y)\n",
    "\n",
    "        Y_pr = model_purchase.predict_proba(df_price_range)\n",
    "        purchase_pr = Y_pr[:][:,1]\n",
    "\n",
    "        pe = model_purchase.coef_[:,0] * price_range * (1 - purchase_pr)\n",
    "\n",
    "        df_pe[col_name] = pe\n",
    "\n",
    "    return df_pe"
   ]
  },
  {
   "cell_type": "code",
   "execution_count": 15,
   "metadata": {},
   "outputs": [
    {
     "data": {
      "text/html": [
       "<div>\n",
       "<style scoped>\n",
       "    .dataframe tbody tr th:only-of-type {\n",
       "        vertical-align: middle;\n",
       "    }\n",
       "\n",
       "    .dataframe tbody tr th {\n",
       "        vertical-align: top;\n",
       "    }\n",
       "\n",
       "    .dataframe thead th {\n",
       "        text-align: right;\n",
       "    }\n",
       "</style>\n",
       "<table border=\"1\" class=\"dataframe\">\n",
       "  <thead>\n",
       "    <tr style=\"text-align: right;\">\n",
       "      <th></th>\n",
       "      <th>Price_point</th>\n",
       "      <th>Mean_PE</th>\n",
       "      <th>PE_S0</th>\n",
       "      <th>PE_S1</th>\n",
       "      <th>PE_S2</th>\n",
       "      <th>PE_S3</th>\n",
       "    </tr>\n",
       "  </thead>\n",
       "  <tbody>\n",
       "    <tr>\n",
       "      <th>70</th>\n",
       "      <td>1.20</td>\n",
       "      <td>-0.891981</td>\n",
       "      <td>-0.686501</td>\n",
       "      <td>-0.997354</td>\n",
       "      <td>-0.700709</td>\n",
       "      <td>-0.804982</td>\n",
       "    </tr>\n",
       "    <tr>\n",
       "      <th>71</th>\n",
       "      <td>1.21</td>\n",
       "      <td>-0.913922</td>\n",
       "      <td>-0.699426</td>\n",
       "      <td>-1.013128</td>\n",
       "      <td>-0.711226</td>\n",
       "      <td>-0.835639</td>\n",
       "    </tr>\n",
       "    <tr>\n",
       "      <th>72</th>\n",
       "      <td>1.22</td>\n",
       "      <td>-0.936225</td>\n",
       "      <td>-0.712502</td>\n",
       "      <td>-1.029018</td>\n",
       "      <td>-0.721823</td>\n",
       "      <td>-0.867231</td>\n",
       "    </tr>\n",
       "    <tr>\n",
       "      <th>73</th>\n",
       "      <td>1.23</td>\n",
       "      <td>-0.958891</td>\n",
       "      <td>-0.725732</td>\n",
       "      <td>-1.045022</td>\n",
       "      <td>-0.732501</td>\n",
       "      <td>-0.899772</td>\n",
       "    </tr>\n",
       "    <tr>\n",
       "      <th>74</th>\n",
       "      <td>1.24</td>\n",
       "      <td>-0.981921</td>\n",
       "      <td>-0.739113</td>\n",
       "      <td>-1.061139</td>\n",
       "      <td>-0.743259</td>\n",
       "      <td>-0.933278</td>\n",
       "    </tr>\n",
       "    <tr>\n",
       "      <th>75</th>\n",
       "      <td>1.25</td>\n",
       "      <td>-1.005315</td>\n",
       "      <td>-0.752647</td>\n",
       "      <td>-1.077369</td>\n",
       "      <td>-0.754097</td>\n",
       "      <td>-0.967762</td>\n",
       "    </tr>\n",
       "    <tr>\n",
       "      <th>76</th>\n",
       "      <td>1.26</td>\n",
       "      <td>-1.029073</td>\n",
       "      <td>-0.766333</td>\n",
       "      <td>-1.093710</td>\n",
       "      <td>-0.765014</td>\n",
       "      <td>-1.003238</td>\n",
       "    </tr>\n",
       "    <tr>\n",
       "      <th>77</th>\n",
       "      <td>1.27</td>\n",
       "      <td>-1.053193</td>\n",
       "      <td>-0.780171</td>\n",
       "      <td>-1.110161</td>\n",
       "      <td>-0.776011</td>\n",
       "      <td>-1.039717</td>\n",
       "    </tr>\n",
       "    <tr>\n",
       "      <th>78</th>\n",
       "      <td>1.28</td>\n",
       "      <td>-1.077677</td>\n",
       "      <td>-0.794161</td>\n",
       "      <td>-1.126721</td>\n",
       "      <td>-0.787086</td>\n",
       "      <td>-1.077211</td>\n",
       "    </tr>\n",
       "    <tr>\n",
       "      <th>79</th>\n",
       "      <td>1.29</td>\n",
       "      <td>-1.102522</td>\n",
       "      <td>-0.808303</td>\n",
       "      <td>-1.143388</td>\n",
       "      <td>-0.798239</td>\n",
       "      <td>-1.115732</td>\n",
       "    </tr>\n",
       "    <tr>\n",
       "      <th>80</th>\n",
       "      <td>1.30</td>\n",
       "      <td>-1.127729</td>\n",
       "      <td>-0.822597</td>\n",
       "      <td>-1.160161</td>\n",
       "      <td>-0.809471</td>\n",
       "      <td>-1.155288</td>\n",
       "    </tr>\n",
       "    <tr>\n",
       "      <th>81</th>\n",
       "      <td>1.31</td>\n",
       "      <td>-1.153295</td>\n",
       "      <td>-0.837042</td>\n",
       "      <td>-1.177040</td>\n",
       "      <td>-0.820780</td>\n",
       "      <td>-1.195889</td>\n",
       "    </tr>\n",
       "    <tr>\n",
       "      <th>82</th>\n",
       "      <td>1.32</td>\n",
       "      <td>-1.179219</td>\n",
       "      <td>-0.851639</td>\n",
       "      <td>-1.194021</td>\n",
       "      <td>-0.832166</td>\n",
       "      <td>-1.237543</td>\n",
       "    </tr>\n",
       "    <tr>\n",
       "      <th>83</th>\n",
       "      <td>1.33</td>\n",
       "      <td>-1.205500</td>\n",
       "      <td>-0.866386</td>\n",
       "      <td>-1.211105</td>\n",
       "      <td>-0.843629</td>\n",
       "      <td>-1.280255</td>\n",
       "    </tr>\n",
       "    <tr>\n",
       "      <th>84</th>\n",
       "      <td>1.34</td>\n",
       "      <td>-1.232136</td>\n",
       "      <td>-0.881284</td>\n",
       "      <td>-1.228290</td>\n",
       "      <td>-0.855168</td>\n",
       "      <td>-1.324033</td>\n",
       "    </tr>\n",
       "    <tr>\n",
       "      <th>85</th>\n",
       "      <td>1.35</td>\n",
       "      <td>-1.259125</td>\n",
       "      <td>-0.896332</td>\n",
       "      <td>-1.245574</td>\n",
       "      <td>-0.866784</td>\n",
       "      <td>-1.368879</td>\n",
       "    </tr>\n",
       "    <tr>\n",
       "      <th>86</th>\n",
       "      <td>1.36</td>\n",
       "      <td>-1.286465</td>\n",
       "      <td>-0.911529</td>\n",
       "      <td>-1.262957</td>\n",
       "      <td>-0.878474</td>\n",
       "      <td>-1.414797</td>\n",
       "    </tr>\n",
       "    <tr>\n",
       "      <th>87</th>\n",
       "      <td>1.37</td>\n",
       "      <td>-1.314152</td>\n",
       "      <td>-0.926876</td>\n",
       "      <td>-1.280435</td>\n",
       "      <td>-0.890240</td>\n",
       "      <td>-1.461788</td>\n",
       "    </tr>\n",
       "    <tr>\n",
       "      <th>88</th>\n",
       "      <td>1.38</td>\n",
       "      <td>-1.342185</td>\n",
       "      <td>-0.942371</td>\n",
       "      <td>-1.298010</td>\n",
       "      <td>-0.902081</td>\n",
       "      <td>-1.509854</td>\n",
       "    </tr>\n",
       "    <tr>\n",
       "      <th>89</th>\n",
       "      <td>1.39</td>\n",
       "      <td>-1.370561</td>\n",
       "      <td>-0.958014</td>\n",
       "      <td>-1.315678</td>\n",
       "      <td>-0.913996</td>\n",
       "      <td>-1.558993</td>\n",
       "    </tr>\n",
       "    <tr>\n",
       "      <th>90</th>\n",
       "      <td>1.40</td>\n",
       "      <td>-1.399275</td>\n",
       "      <td>-0.973805</td>\n",
       "      <td>-1.333438</td>\n",
       "      <td>-0.925984</td>\n",
       "      <td>-1.609202</td>\n",
       "    </tr>\n",
       "    <tr>\n",
       "      <th>91</th>\n",
       "      <td>1.41</td>\n",
       "      <td>-1.428326</td>\n",
       "      <td>-0.989743</td>\n",
       "      <td>-1.351289</td>\n",
       "      <td>-0.938045</td>\n",
       "      <td>-1.660479</td>\n",
       "    </tr>\n",
       "    <tr>\n",
       "      <th>92</th>\n",
       "      <td>1.42</td>\n",
       "      <td>-1.457709</td>\n",
       "      <td>-1.005826</td>\n",
       "      <td>-1.369230</td>\n",
       "      <td>-0.950179</td>\n",
       "      <td>-1.712816</td>\n",
       "    </tr>\n",
       "    <tr>\n",
       "      <th>93</th>\n",
       "      <td>1.43</td>\n",
       "      <td>-1.487421</td>\n",
       "      <td>-1.022055</td>\n",
       "      <td>-1.387258</td>\n",
       "      <td>-0.962385</td>\n",
       "      <td>-1.766208</td>\n",
       "    </tr>\n",
       "    <tr>\n",
       "      <th>94</th>\n",
       "      <td>1.44</td>\n",
       "      <td>-1.517458</td>\n",
       "      <td>-1.038429</td>\n",
       "      <td>-1.405373</td>\n",
       "      <td>-0.974663</td>\n",
       "      <td>-1.820646</td>\n",
       "    </tr>\n",
       "    <tr>\n",
       "      <th>95</th>\n",
       "      <td>1.45</td>\n",
       "      <td>-1.547815</td>\n",
       "      <td>-1.054946</td>\n",
       "      <td>-1.423572</td>\n",
       "      <td>-0.987012</td>\n",
       "      <td>-1.876120</td>\n",
       "    </tr>\n",
       "    <tr>\n",
       "      <th>96</th>\n",
       "      <td>1.46</td>\n",
       "      <td>-1.578489</td>\n",
       "      <td>-1.071606</td>\n",
       "      <td>-1.441855</td>\n",
       "      <td>-0.999431</td>\n",
       "      <td>-1.932619</td>\n",
       "    </tr>\n",
       "  </tbody>\n",
       "</table>\n",
       "</div>"
      ],
      "text/plain": [
       "    Price_point   Mean_PE     PE_S0     PE_S1     PE_S2     PE_S3\n",
       "70         1.20 -0.891981 -0.686501 -0.997354 -0.700709 -0.804982\n",
       "71         1.21 -0.913922 -0.699426 -1.013128 -0.711226 -0.835639\n",
       "72         1.22 -0.936225 -0.712502 -1.029018 -0.721823 -0.867231\n",
       "73         1.23 -0.958891 -0.725732 -1.045022 -0.732501 -0.899772\n",
       "74         1.24 -0.981921 -0.739113 -1.061139 -0.743259 -0.933278\n",
       "75         1.25 -1.005315 -0.752647 -1.077369 -0.754097 -0.967762\n",
       "76         1.26 -1.029073 -0.766333 -1.093710 -0.765014 -1.003238\n",
       "77         1.27 -1.053193 -0.780171 -1.110161 -0.776011 -1.039717\n",
       "78         1.28 -1.077677 -0.794161 -1.126721 -0.787086 -1.077211\n",
       "79         1.29 -1.102522 -0.808303 -1.143388 -0.798239 -1.115732\n",
       "80         1.30 -1.127729 -0.822597 -1.160161 -0.809471 -1.155288\n",
       "81         1.31 -1.153295 -0.837042 -1.177040 -0.820780 -1.195889\n",
       "82         1.32 -1.179219 -0.851639 -1.194021 -0.832166 -1.237543\n",
       "83         1.33 -1.205500 -0.866386 -1.211105 -0.843629 -1.280255\n",
       "84         1.34 -1.232136 -0.881284 -1.228290 -0.855168 -1.324033\n",
       "85         1.35 -1.259125 -0.896332 -1.245574 -0.866784 -1.368879\n",
       "86         1.36 -1.286465 -0.911529 -1.262957 -0.878474 -1.414797\n",
       "87         1.37 -1.314152 -0.926876 -1.280435 -0.890240 -1.461788\n",
       "88         1.38 -1.342185 -0.942371 -1.298010 -0.902081 -1.509854\n",
       "89         1.39 -1.370561 -0.958014 -1.315678 -0.913996 -1.558993\n",
       "90         1.40 -1.399275 -0.973805 -1.333438 -0.925984 -1.609202\n",
       "91         1.41 -1.428326 -0.989743 -1.351289 -0.938045 -1.660479\n",
       "92         1.42 -1.457709 -1.005826 -1.369230 -0.950179 -1.712816\n",
       "93         1.43 -1.487421 -1.022055 -1.387258 -0.962385 -1.766208\n",
       "94         1.44 -1.517458 -1.038429 -1.405373 -0.974663 -1.820646\n",
       "95         1.45 -1.547815 -1.054946 -1.423572 -0.987012 -1.876120\n",
       "96         1.46 -1.578489 -1.071606 -1.441855 -0.999431 -1.932619"
      ]
     },
     "execution_count": 15,
     "metadata": {},
     "output_type": "execute_result"
    }
   ],
   "source": [
    "df_pe = elasticity_per_segment(df_pa, price_range, df_price_range, df_pe)\n",
    "\n",
    "df_pe.iloc[70:97,:]"
   ]
  },
  {
   "cell_type": "code",
   "execution_count": 16,
   "metadata": {
    "scrolled": true
   },
   "outputs": [
    {
     "data": {
      "image/png": "[encoded data removed]",
      "text/plain": [
       "<Figure size 648x360 with 1 Axes>"
      ]
     },
     "metadata": {},
     "output_type": "display_data"
    }
   ],
   "source": [
    "plt.figure(figsize=(9,5))\n",
    "plt.plot(price_range, df_pe['Mean_PE'], color='grey')\n",
    "plt.plot(price_range, df_pe['PE_S0'], color='g')\n",
    "plt.plot(price_range, df_pe['PE_S1'], color='b')\n",
    "plt.plot(price_range, df_pe['PE_S2'], color='r')\n",
    "plt.plot(price_range, df_pe['PE_S3'], color='orange')\n",
    "\n",
    "plt.axhline(y=-1,linewidth=2, color='black', linestyle='--')\n",
    "\n",
    "plt.xlabel('Price')\n",
    "plt.ylabel('Elasticity')\n",
    "plt.title('Price Elasticity of Purchase Probablity')\n",
    "plt.legend(['Mean_PE','Career-Focused','Standard','Well-off','Few Opportunities'])\n",
    "plt.show()"
   ]
  },
  {
   "cell_type": "markdown",
   "metadata": {},
   "source": [
    "***Price points at which customers behaviour change from inelastic to elastic***\n",
    "\n",
    "1. Mean Elasticity = 1.25\n",
    "2. Career-Focused = 1.42\n",
    "3. Standard = 1.21\n",
    "4. Well-off = 1.46\n",
    "5. Few-Opportunites = 1.26\n",
    "\n",
    "*P.S - the figures are in dollars.*"
   ]
  },
  {
   "cell_type": "markdown",
   "metadata": {},
   "source": [
    "### Data Preparation for Promotion Feature"
   ]
  },
  {
   "cell_type": "code",
   "execution_count": 17,
   "metadata": {},
   "outputs": [],
   "source": [
    "Y = df_pa['Incidence']"
   ]
  },
  {
   "cell_type": "code",
   "execution_count": 18,
   "metadata": {},
   "outputs": [],
   "source": [
    "X = pd.DataFrame()\n",
    "X['Mean_Price'] = (df_pa['Price_1'] +\n",
    "                   df_pa['Price_2'] +\n",
    "                   df_pa['Price_3'] +\n",
    "                   df_pa['Price_4'] +\n",
    "                   df_pa['Price_5']) / 5\n",
    "\n",
    "X['Mean_Promotion'] = (df_pa['Promotion_1'] +\n",
    "                   df_pa['Promotion_2'] +\n",
    "                   df_pa['Promotion_3'] +\n",
    "                   df_pa['Promotion_4'] +\n",
    "                   df_pa['Promotion_5']) / 5"
   ]
  },
  {
   "cell_type": "code",
   "execution_count": 19,
   "metadata": {},
   "outputs": [
    {
     "data": {
      "text/plain": [
       "array([[-1.49402677,  0.56154068]])"
      ]
     },
     "execution_count": 19,
     "metadata": {},
     "output_type": "execute_result"
    }
   ],
   "source": [
    "model_promotion = LogisticRegression(solver='sag')\n",
    "model_promotion.fit(X,Y)\n",
    "model_promotion.coef_"
   ]
  },
  {
   "cell_type": "markdown",
   "metadata": {},
   "source": [
    "### Price Elasticity with Promotion"
   ]
  },
  {
   "cell_type": "code",
   "execution_count": 20,
   "metadata": {},
   "outputs": [],
   "source": [
    "df_pe_prom = pd.DataFrame(price_range)\n",
    "df_pe_prom = df_pe_prom.rename(columns = {0:'Price_Range'})\n",
    "\n",
    "df_pe_prom['Promotion'] = 1\n",
    "\n",
    "#Purchase Probability with Promotion Model Prediction\n",
    "Y_prom = model_promotion.predict_proba(df_pe_prom)\n",
    "\n",
    "promo = Y_prom[:,1]\n",
    "pe_prom = (model_promotion.coef_[:,0]*price_range)*(1-promo)\n",
    "\n",
    "# Update master data frame to include purchase probability elasticities without promotion.\n",
    "# We can now see the values with and without promotion and compare them for each price point in our price range.\n",
    "df_pe['Promotion'] = pe_prom"
   ]
  },
  {
   "cell_type": "markdown",
   "metadata": {},
   "source": [
    "### Price Elasticity without Promotion"
   ]
  },
  {
   "cell_type": "code",
   "execution_count": 21,
   "metadata": {},
   "outputs": [],
   "source": [
    "df_pe_no_prom = pd.DataFrame(price_range)\n",
    "df_pe_no_prom = df_pe_no_prom.rename(columns = {0: \"Price_Range\"})\n",
    "\n",
    "df_pe_no_prom['Promotion'] = 0\n",
    "\n",
    "#Purchase Probability without Promotion Model Prediction\n",
    "Y_no_promo = model_promotion.predict_proba(df_pe_no_prom)\n",
    "\n",
    "no_promo = Y_no_promo[:,1]\n",
    "pe_no_promo = model_promotion.coef_[:,0]*price_range*(1-no_promo)\n",
    "\n",
    "# Update master data frame to include purchase probability elasticities without promotion.\n",
    "# We can now see the values with and without promotion and compare them for each price point in our price range.\n",
    "df_pe['No_Promotion'] = pe_no_promo"
   ]
  },
  {
   "cell_type": "code",
   "execution_count": 22,
   "metadata": {},
   "outputs": [
    {
     "data": {
      "text/html": [
       "<div>\n",
       "<style scoped>\n",
       "    .dataframe tbody tr th:only-of-type {\n",
       "        vertical-align: middle;\n",
       "    }\n",
       "\n",
       "    .dataframe tbody tr th {\n",
       "        vertical-align: top;\n",
       "    }\n",
       "\n",
       "    .dataframe thead th {\n",
       "        text-align: right;\n",
       "    }\n",
       "</style>\n",
       "<table border=\"1\" class=\"dataframe\">\n",
       "  <thead>\n",
       "    <tr style=\"text-align: right;\">\n",
       "      <th></th>\n",
       "      <th>Price_point</th>\n",
       "      <th>Promotion</th>\n",
       "      <th>No_Promotion</th>\n",
       "    </tr>\n",
       "  </thead>\n",
       "  <tbody>\n",
       "    <tr>\n",
       "      <th>75</th>\n",
       "      <td>1.25</td>\n",
       "      <td>-0.715336</td>\n",
       "      <td>-0.973366</td>\n",
       "    </tr>\n",
       "    <tr>\n",
       "      <th>76</th>\n",
       "      <td>1.26</td>\n",
       "      <td>-0.727716</td>\n",
       "      <td>-0.988169</td>\n",
       "    </tr>\n",
       "    <tr>\n",
       "      <th>77</th>\n",
       "      <td>1.27</td>\n",
       "      <td>-0.740226</td>\n",
       "      <td>-1.003078</td>\n",
       "    </tr>\n",
       "    <tr>\n",
       "      <th>78</th>\n",
       "      <td>1.28</td>\n",
       "      <td>-0.752863</td>\n",
       "      <td>-1.018092</td>\n",
       "    </tr>\n",
       "    <tr>\n",
       "      <th>79</th>\n",
       "      <td>1.29</td>\n",
       "      <td>-0.765629</td>\n",
       "      <td>-1.033211</td>\n",
       "    </tr>\n",
       "    <tr>\n",
       "      <th>80</th>\n",
       "      <td>1.30</td>\n",
       "      <td>-0.778522</td>\n",
       "      <td>-1.048433</td>\n",
       "    </tr>\n",
       "    <tr>\n",
       "      <th>81</th>\n",
       "      <td>1.31</td>\n",
       "      <td>-0.791544</td>\n",
       "      <td>-1.063757</td>\n",
       "    </tr>\n",
       "    <tr>\n",
       "      <th>82</th>\n",
       "      <td>1.32</td>\n",
       "      <td>-0.804693</td>\n",
       "      <td>-1.079183</td>\n",
       "    </tr>\n",
       "    <tr>\n",
       "      <th>83</th>\n",
       "      <td>1.33</td>\n",
       "      <td>-0.817970</td>\n",
       "      <td>-1.094709</td>\n",
       "    </tr>\n",
       "    <tr>\n",
       "      <th>84</th>\n",
       "      <td>1.34</td>\n",
       "      <td>-0.831373</td>\n",
       "      <td>-1.110334</td>\n",
       "    </tr>\n",
       "    <tr>\n",
       "      <th>85</th>\n",
       "      <td>1.35</td>\n",
       "      <td>-0.844904</td>\n",
       "      <td>-1.126057</td>\n",
       "    </tr>\n",
       "    <tr>\n",
       "      <th>86</th>\n",
       "      <td>1.36</td>\n",
       "      <td>-0.858561</td>\n",
       "      <td>-1.141878</td>\n",
       "    </tr>\n",
       "    <tr>\n",
       "      <th>87</th>\n",
       "      <td>1.37</td>\n",
       "      <td>-0.872344</td>\n",
       "      <td>-1.157794</td>\n",
       "    </tr>\n",
       "    <tr>\n",
       "      <th>88</th>\n",
       "      <td>1.38</td>\n",
       "      <td>-0.886252</td>\n",
       "      <td>-1.173806</td>\n",
       "    </tr>\n",
       "    <tr>\n",
       "      <th>89</th>\n",
       "      <td>1.39</td>\n",
       "      <td>-0.900286</td>\n",
       "      <td>-1.189911</td>\n",
       "    </tr>\n",
       "    <tr>\n",
       "      <th>90</th>\n",
       "      <td>1.40</td>\n",
       "      <td>-0.914445</td>\n",
       "      <td>-1.206109</td>\n",
       "    </tr>\n",
       "    <tr>\n",
       "      <th>91</th>\n",
       "      <td>1.41</td>\n",
       "      <td>-0.928728</td>\n",
       "      <td>-1.222399</td>\n",
       "    </tr>\n",
       "    <tr>\n",
       "      <th>92</th>\n",
       "      <td>1.42</td>\n",
       "      <td>-0.943135</td>\n",
       "      <td>-1.238779</td>\n",
       "    </tr>\n",
       "    <tr>\n",
       "      <th>93</th>\n",
       "      <td>1.43</td>\n",
       "      <td>-0.957665</td>\n",
       "      <td>-1.255248</td>\n",
       "    </tr>\n",
       "    <tr>\n",
       "      <th>94</th>\n",
       "      <td>1.44</td>\n",
       "      <td>-0.972317</td>\n",
       "      <td>-1.271804</td>\n",
       "    </tr>\n",
       "    <tr>\n",
       "      <th>95</th>\n",
       "      <td>1.45</td>\n",
       "      <td>-0.987092</td>\n",
       "      <td>-1.288448</td>\n",
       "    </tr>\n",
       "    <tr>\n",
       "      <th>96</th>\n",
       "      <td>1.46</td>\n",
       "      <td>-1.001987</td>\n",
       "      <td>-1.305177</td>\n",
       "    </tr>\n",
       "    <tr>\n",
       "      <th>97</th>\n",
       "      <td>1.47</td>\n",
       "      <td>-1.017004</td>\n",
       "      <td>-1.321991</td>\n",
       "    </tr>\n",
       "  </tbody>\n",
       "</table>\n",
       "</div>"
      ],
      "text/plain": [
       "    Price_point  Promotion  No_Promotion\n",
       "75         1.25  -0.715336     -0.973366\n",
       "76         1.26  -0.727716     -0.988169\n",
       "77         1.27  -0.740226     -1.003078\n",
       "78         1.28  -0.752863     -1.018092\n",
       "79         1.29  -0.765629     -1.033211\n",
       "80         1.30  -0.778522     -1.048433\n",
       "81         1.31  -0.791544     -1.063757\n",
       "82         1.32  -0.804693     -1.079183\n",
       "83         1.33  -0.817970     -1.094709\n",
       "84         1.34  -0.831373     -1.110334\n",
       "85         1.35  -0.844904     -1.126057\n",
       "86         1.36  -0.858561     -1.141878\n",
       "87         1.37  -0.872344     -1.157794\n",
       "88         1.38  -0.886252     -1.173806\n",
       "89         1.39  -0.900286     -1.189911\n",
       "90         1.40  -0.914445     -1.206109\n",
       "91         1.41  -0.928728     -1.222399\n",
       "92         1.42  -0.943135     -1.238779\n",
       "93         1.43  -0.957665     -1.255248\n",
       "94         1.44  -0.972317     -1.271804\n",
       "95         1.45  -0.987092     -1.288448\n",
       "96         1.46  -1.001987     -1.305177\n",
       "97         1.47  -1.017004     -1.321991"
      ]
     },
     "execution_count": 22,
     "metadata": {},
     "output_type": "execute_result"
    }
   ],
   "source": [
    "temp = ['Price_point','Promotion','No_Promotion']\n",
    "df_pe[temp].iloc[75:98,:]"
   ]
  },
  {
   "cell_type": "code",
   "execution_count": 23,
   "metadata": {},
   "outputs": [
    {
     "data": {
      "image/png": "[encoded data removed]",
      "text/plain": [
       "<Figure size 648x432 with 1 Axes>"
      ]
     },
     "metadata": {},
     "output_type": "display_data"
    }
   ],
   "source": [
    "# Plot purchase elasticities with and without promotion side by side for comprarisson.\n",
    "plt.figure(figsize = (9, 6))\n",
    "plt.plot(price_range, pe_no_promo)\n",
    "plt.plot(price_range, pe_prom)\n",
    "plt.legend(['No Promotion','Promotion'])\n",
    "plt.xlabel('Price')\n",
    "plt.ylabel('Elasticity')\n",
    "plt.title('Price Elasticity of Purchase Probability with and without Promotion')\n",
    "plt.show()"
   ]
  },
  {
   "cell_type": "markdown",
   "metadata": {},
   "source": [
    "**Price points at which customers behaviour change from inelastic to elastic**\n",
    "\n",
    "1. No Promotion = 1.27\n",
    "2. Promotion = 1.46\n",
    "\n",
    "### Analysis\n",
    "1. *Customers are less price sensitive to price changes when there are promotion activities.*\n",
    "2. *It would be more beneficial to have a higher original price and constant promotion.*"
   ]
  },
  {
   "cell_type": "markdown",
   "metadata": {},
   "source": [
    "## Brand Choice Probability"
   ]
  },
  {
   "cell_type": "code",
   "execution_count": 24,
   "metadata": {},
   "outputs": [],
   "source": [
    "brand_choice = df_pa[df_pa['Incidence'] == 1]"
   ]
  },
  {
   "cell_type": "code",
   "execution_count": 25,
   "metadata": {},
   "outputs": [],
   "source": [
    "# Multinomial Classification\n",
    "Y = brand_choice['Brand']"
   ]
  },
  {
   "cell_type": "code",
   "execution_count": 26,
   "metadata": {},
   "outputs": [],
   "source": [
    "features = ['Price_1', 'Price_2', 'Price_3', 'Price_4','Price_5']\n",
    "\n",
    "X = brand_choice[features]"
   ]
  },
  {
   "cell_type": "code",
   "execution_count": 27,
   "metadata": {},
   "outputs": [
    {
     "data": {
      "text/plain": [
       "LogisticRegression(multi_class='multinomial', solver='sag')"
      ]
     },
     "execution_count": 27,
     "metadata": {},
     "output_type": "execute_result"
    }
   ],
   "source": [
    "model_brand_choice = LogisticRegression(solver='sag', multi_class='multinomial')\n",
    "model_brand_choice.fit(X,Y)"
   ]
  },
  {
   "cell_type": "code",
   "execution_count": 28,
   "metadata": {},
   "outputs": [
    {
     "data": {
      "text/html": [
       "<div>\n",
       "<style scoped>\n",
       "    .dataframe tbody tr th:only-of-type {\n",
       "        vertical-align: middle;\n",
       "    }\n",
       "\n",
       "    .dataframe tbody tr th {\n",
       "        vertical-align: top;\n",
       "    }\n",
       "\n",
       "    .dataframe thead tr th {\n",
       "        text-align: left;\n",
       "    }\n",
       "</style>\n",
       "<table border=\"1\" class=\"dataframe\">\n",
       "  <thead>\n",
       "    <tr>\n",
       "      <th></th>\n",
       "      <th>Coef_Brand_1</th>\n",
       "      <th>Coef_Brand_2</th>\n",
       "      <th>Coef_Brand_3</th>\n",
       "      <th>Coef_Brand_4</th>\n",
       "      <th>Coef_Brand_5</th>\n",
       "    </tr>\n",
       "  </thead>\n",
       "  <tbody>\n",
       "    <tr>\n",
       "      <th>Price_1</th>\n",
       "      <td>-3.92</td>\n",
       "      <td>1.27</td>\n",
       "      <td>1.62</td>\n",
       "      <td>0.57</td>\n",
       "      <td>0.44</td>\n",
       "    </tr>\n",
       "    <tr>\n",
       "      <th>Price_2</th>\n",
       "      <td>0.66</td>\n",
       "      <td>-1.88</td>\n",
       "      <td>0.56</td>\n",
       "      <td>0.40</td>\n",
       "      <td>0.26</td>\n",
       "    </tr>\n",
       "    <tr>\n",
       "      <th>Price_3</th>\n",
       "      <td>2.42</td>\n",
       "      <td>-0.21</td>\n",
       "      <td>0.50</td>\n",
       "      <td>-1.40</td>\n",
       "      <td>-1.31</td>\n",
       "    </tr>\n",
       "    <tr>\n",
       "      <th>Price_4</th>\n",
       "      <td>0.70</td>\n",
       "      <td>-0.21</td>\n",
       "      <td>1.04</td>\n",
       "      <td>-1.25</td>\n",
       "      <td>-0.29</td>\n",
       "    </tr>\n",
       "    <tr>\n",
       "      <th>Price_5</th>\n",
       "      <td>-0.20</td>\n",
       "      <td>0.59</td>\n",
       "      <td>0.45</td>\n",
       "      <td>0.25</td>\n",
       "      <td>-1.09</td>\n",
       "    </tr>\n",
       "  </tbody>\n",
       "</table>\n",
       "</div>"
      ],
      "text/plain": [
       "        Coef_Brand_1 Coef_Brand_2 Coef_Brand_3 Coef_Brand_4 Coef_Brand_5\n",
       "Price_1        -3.92         1.27         1.62         0.57         0.44\n",
       "Price_2         0.66        -1.88         0.56         0.40         0.26\n",
       "Price_3         2.42        -0.21         0.50        -1.40        -1.31\n",
       "Price_4         0.70        -0.21         1.04        -1.25        -0.29\n",
       "Price_5        -0.20         0.59         0.45         0.25        -1.09"
      ]
     },
     "execution_count": 28,
     "metadata": {},
     "output_type": "execute_result"
    }
   ],
   "source": [
    "coef = ['Coef_Brand_1','Coef_Brand_2','Coef_Brand_3','Coef_Brand_4','Coef_Brand_5']\n",
    "\n",
    "bc_coef = pd.DataFrame(np.transpose(model_brand_choice.coef_))\n",
    "bc_coef.columns = [coef]\n",
    "bc_coef.index = [features]\n",
    "bc_coef = bc_coef.round(2)\n",
    "bc_coef"
   ]
  },
  {
   "cell_type": "markdown",
   "metadata": {},
   "source": [
    "---\n",
    "#### Own Price Elasticity per Brands"
   ]
  },
  {
   "cell_type": "code",
   "execution_count": 29,
   "metadata": {},
   "outputs": [],
   "source": [
    "def own_price_elasticity(price_range, brand_choice, bc_coef, df_pe):\n",
    "    brands = sorted(pd.unique(brand_choice['Brand']))\n",
    "    temp_df = pd.DataFrame(index= np.arange(price_range.size))\n",
    "    for i in brands:\n",
    "        # create values for chosen brand\n",
    "        col_name = 'Price_'+str(i)\n",
    "        temp_df[col_name] = price_range\n",
    "\n",
    "        # create values for other brands\n",
    "        for j in brands:\n",
    "            if i != j:\n",
    "                col_name = 'Price_'+str(j)\n",
    "                temp_df[col_name] = brand_choice[col_name].mean()\n",
    "\n",
    "        pred_brand = model_brand_choice.predict_proba(temp_df)\n",
    "\n",
    "        pr_own_brand = pred_brand[:][:,i-1]\n",
    "\n",
    "        beta = bc_coef.iloc[i-1,i-1]\n",
    "\n",
    "        own_pe = beta * price_range * (1- pr_own_brand)\n",
    "        \n",
    "        col = 'Brand_'+str(i)\n",
    "        df_pe[col] = own_pe\n",
    "    \n",
    "    return df_pe"
   ]
  },
  {
   "cell_type": "code",
   "execution_count": 30,
   "metadata": {},
   "outputs": [],
   "source": [
    "df_pe = own_price_elasticity(price_range, brand_choice, bc_coef, df_pe)"
   ]
  },
  {
   "cell_type": "code",
   "execution_count": 31,
   "metadata": {},
   "outputs": [
    {
     "data": {
      "image/png": "[encoded data removed]",
      "text/plain": [
       "<Figure size 648x360 with 1 Axes>"
      ]
     },
     "metadata": {},
     "output_type": "display_data"
    }
   ],
   "source": [
    "plt.figure(figsize=(9,5))\n",
    "plt.plot(price_range, df_pe['Brand_1'], color='grey')\n",
    "plt.plot(price_range, df_pe['Brand_2'], color='g')\n",
    "plt.plot(price_range, df_pe['Brand_3'], color='b')\n",
    "plt.plot(price_range, df_pe['Brand_4'], color='r')\n",
    "plt.plot(price_range, df_pe['Brand_5'], color='orange')\n",
    "\n",
    "plt.axhline(y=-1,linewidth=2, color='black', linestyle='--')\n",
    "\n",
    "plt.xlabel('Price')\n",
    "plt.ylabel('Elasticity')\n",
    "plt.title('Own Price Elasticity of Various Brand')\n",
    "plt.legend(['Brand_1','Brand_2','Brand_3','Brand_4','Brand_5'])\n",
    "plt.show()"
   ]
  },
  {
   "cell_type": "markdown",
   "metadata": {},
   "source": [
    "---\n",
    "#### Cross Brand Price Elasticity (5 v/s 4)"
   ]
  },
  {
   "cell_type": "code",
   "execution_count": 32,
   "metadata": {},
   "outputs": [],
   "source": [
    "df_brand5_cross_brand4 = pd.DataFrame(index= np.arange(price_range.size))\n",
    "df_brand5_cross_brand4['Price_1'] = brand_choice['Price_1'].mean()\n",
    "df_brand5_cross_brand4['Price_2'] = brand_choice['Price_2'].mean()\n",
    "df_brand5_cross_brand4['Price_3'] = brand_choice['Price_3'].mean()\n",
    "df_brand5_cross_brand4['Price_4'] = price_range\n",
    "df_brand5_cross_brand4['Price_5'] = brand_choice['Price_5'].mean()"
   ]
  },
  {
   "cell_type": "code",
   "execution_count": 33,
   "metadata": {},
   "outputs": [],
   "source": [
    "pred_brand5_cross_brand4 = model_brand_choice.predict_proba(df_brand5_cross_brand4)\n",
    "\n",
    "pr_brand4 = pred_brand5_cross_brand4[:][:,3]\n",
    "\n",
    "beta5 = bc_coef.iloc[4,4]\n",
    "\n",
    "brand5_cross_brand4_pe = - beta5 * price_range * pr_brand4\n",
    "\n",
    "df_pe['brand5_cross_brand4'] = brand5_cross_brand4_pe"
   ]
  },
  {
   "cell_type": "code",
   "execution_count": 34,
   "metadata": {},
   "outputs": [
    {
     "data": {
      "image/png": "[encoded data removed]",
      "text/plain": [
       "<Figure size 648x360 with 1 Axes>"
      ]
     },
     "metadata": {},
     "output_type": "display_data"
    }
   ],
   "source": [
    "plt.figure(figsize=(9,5))\n",
    "plt.bar(x=2.01, width=0.5, height=1, color='y')\n",
    "#plt.bar(x=2.455, width=0.69, height=1, color='b')\n",
    "\n",
    "plt.plot(price_range, df_pe['brand5_cross_brand4'], color='grey')\n",
    "plt.xlabel('Price')\n",
    "plt.ylabel('Elasticity')\n",
    "plt.title('Cross-brand Price Elasticity of Brand 5 wrt Brand 4')\n",
    "plt.legend(['Brand5_Cross_Brand4','Price_Range of Brand 4'])\n",
    "plt.show()"
   ]
  },
  {
   "cell_type": "markdown",
   "metadata": {},
   "source": [
    "Target Customers which choose Brand 4 and attract them to buy Brand 5."
   ]
  },
  {
   "cell_type": "markdown",
   "metadata": {},
   "source": [
    "---\n",
    "### Own and Cross-price elasticity by segment   "
   ]
  },
  {
   "cell_type": "code",
   "execution_count": 35,
   "metadata": {},
   "outputs": [],
   "source": [
    "# career focused\n",
    "brand_choice_sc = brand_choice[brand_choice['Segment'] == 0]\n",
    "\n",
    "# Standard\n",
    "brand_choice_ss = brand_choice[brand_choice['Segment'] == 1]\n",
    "\n",
    "# well off\n",
    "brand_choice_sw = brand_choice[brand_choice['Segment'] == 2]\n",
    "\n",
    "# Few Opportunities\n",
    "brand_choice_sf = brand_choice[brand_choice['Segment'] == 3]"
   ]
  },
  {
   "cell_type": "markdown",
   "metadata": {},
   "source": [
    "#### Models and Coefficients for each segment"
   ]
  },
  {
   "cell_type": "code",
   "execution_count": 36,
   "metadata": {},
   "outputs": [],
   "source": [
    "def coef_model_per_segment(brand_choice):\n",
    "    \n",
    "    features = ['Price_1', 'Price_2', 'Price_3', 'Price_4','Price_5']\n",
    "    \n",
    "    # model estimation well off\n",
    "    Y = brand_choice['Brand']\n",
    "    brand_choice = pd.get_dummies(brand_choice, columns=['Brand'], prefix = 'Brand', prefix_sep = '_')\n",
    "    X = brand_choice[features]\n",
    "    model = LogisticRegression(solver='sag', multi_class='multinomial', max_iter=300)\n",
    "    model.fit(X,Y)\n",
    "\n",
    "    coef = ['Coef_Brand_1','Coef_Brand_2','Coef_Brand_3','Coef_Brand_4','Coef_Brand_5']\n",
    "    # coefficients table for segment well off\n",
    "    coef_t = pd.DataFrame(np.transpose(model.coef_))\n",
    "    coef_t.columns = [coef]\n",
    "    coef_t.index = [features]\n",
    "    coef_t = coef_t.round(2)\n",
    "\n",
    "    return coef_t, model"
   ]
  },
  {
   "cell_type": "code",
   "execution_count": 37,
   "metadata": {},
   "outputs": [],
   "source": [
    "# Career-focused \n",
    "bc_coef_sc, model_brand_choice_sc = coef_model_per_segment(brand_choice_sc)\n",
    "\n",
    "# Standard\n",
    "bc_coef_ss, model_brand_choice_ss = coef_model_per_segment(brand_choice_ss)\n",
    "\n",
    "# Well-off \n",
    "bc_coef_sw, model_brand_choice_sw = coef_model_per_segment(brand_choice_sw)\n",
    "\n",
    "# Few Opportunities\n",
    "bc_coef_sf, model_brand_choice_sf = coef_model_per_segment(brand_choice_sf)"
   ]
  },
  {
   "cell_type": "markdown",
   "metadata": {},
   "source": [
    "---\n",
    "***Well-Off & Career Focused Segments on Brand 5 and Brand 4***"
   ]
  },
  {
   "cell_type": "code",
   "execution_count": 38,
   "metadata": {},
   "outputs": [],
   "source": [
    "def own_price_elasticity_per_segment(price_range, brand_choice, bc_coef, df_pe, target, model):\n",
    "    \n",
    "    brands = sorted(pd.unique(brand_choice['Brand']))\n",
    "    temp_df = pd.DataFrame(index= np.arange(price_range.size))\n",
    "    brand = target[0]\n",
    "    segment = target[1]\n",
    "    \n",
    "    # create dataframe for our model\n",
    "    for i in brands:\n",
    "        col_name = 'Price_'+str(i)\n",
    "        if i == brand:    \n",
    "            temp_df[col_name] = price_range\n",
    "        else:\n",
    "            temp_df[col_name] = brand_choice[col_name].mean() \n",
    "    \n",
    "    \n",
    "    pred = model.predict_proba(temp_df)\n",
    "    pr = pred[:][:,brand-1]\n",
    "\n",
    "    beta = bc_coef.iloc[brand-1,brand-1]\n",
    "\n",
    "    pe = beta * price_range * (1-pr)\n",
    "    \n",
    "    col_name = 'Brand_'+str(brand)+'_S'+segment\n",
    "    df_pe[col_name] = pe\n",
    "    \n",
    "    return df_pe"
   ]
  },
  {
   "cell_type": "code",
   "execution_count": 39,
   "metadata": {},
   "outputs": [],
   "source": [
    "# Own PE Brand 5 Well-Off\n",
    "df_pe = own_price_elasticity_per_segment(price_range, brand_choice_sw, bc_coef_sw, df_pe, [5,'W'], model_brand_choice_sw)\n",
    "\n",
    "# Own PE Brand 5 Career Focused\n",
    "df_pe = own_price_elasticity_per_segment(price_range, brand_choice_sc, bc_coef_sc, df_pe, [5,'C'], model_brand_choice_sc)"
   ]
  },
  {
   "cell_type": "markdown",
   "metadata": {},
   "source": [
    "---"
   ]
  },
  {
   "cell_type": "code",
   "execution_count": 40,
   "metadata": {},
   "outputs": [],
   "source": [
    "def cross_price_elasticity_per_segment(price_range, brand_choice, bc_coef, df_pe, target, model):\n",
    "    \n",
    "    brands = sorted(pd.unique(brand_choice['Brand']))\n",
    "    temp_df = pd.DataFrame(index= np.arange(price_range.size))\n",
    "    my_brand = target[0]\n",
    "    comp_brand = target[1]\n",
    "    segment = target[2]\n",
    "    \n",
    "    # create dataframe for our model\n",
    "    for i in brands:\n",
    "        col_name = 'Price_'+str(i)\n",
    "        if i == comp_brand:    \n",
    "            temp_df[col_name] = price_range\n",
    "        else:\n",
    "            temp_df[col_name] = brand_choice[col_name].mean() \n",
    "    \n",
    "    \n",
    "    pred = model.predict_proba(temp_df)\n",
    "    comp_pr = pred[:][:,comp_brand-1]\n",
    "\n",
    "    beta = bc_coef.iloc[my_brand-1,my_brand-1]\n",
    "\n",
    "    pe = - beta * price_range * comp_pr\n",
    "    \n",
    "    col_name = 'Brand_'+str(my_brand)+'_Cross_'+str(comp_brand)+'_S'+segment\n",
    "    df_pe[col_name] = pe\n",
    "    \n",
    "    return df_pe"
   ]
  },
  {
   "cell_type": "code",
   "execution_count": 41,
   "metadata": {},
   "outputs": [],
   "source": [
    "# cross price elasticity brand 5 --> 4 (Well-Off)\n",
    "df_pe = cross_price_elasticity_per_segment(price_range, brand_choice_sw, bc_coef_sw, df_pe, [5,4,'W'], model_brand_choice_sw)\n",
    "\n",
    "# cross price elasticity brand 5 --> 4 (Career Focused)\n",
    "df_pe = cross_price_elasticity_per_segment(price_range, brand_choice_sc, bc_coef_sc, df_pe, [5,4,'C'], model_brand_choice_sc)"
   ]
  },
  {
   "cell_type": "markdown",
   "metadata": {},
   "source": [
    "#### Plotting the Elasticities"
   ]
  },
  {
   "cell_type": "code",
   "execution_count": 43,
   "metadata": {},
   "outputs": [
    {
     "data": {
      "image/png": "[encoded data removed]",
      "text/plain": [
       "<Figure size 1008x720 with 4 Axes>"
      ]
     },
     "metadata": {},
     "output_type": "display_data"
    }
   ],
   "source": [
    "fig, axs = plt.subplots(2,2, figsize=(14,10))\n",
    "\n",
    "axs[0][0].plot(price_range, df_pe['Brand_5_SW'], color='orange')\n",
    "axs[0][0].set_title('Brand 5 Segment Well - Off')\n",
    "axs[0][0].set_xlabel('Price 5')\n",
    "axs[0][0].set_xlabel('Elasticity')\n",
    "axs[0][0].bar(x=2.455, width=0.69, height=-1.5, color='y')\n",
    "\n",
    "axs[0][1].plot(price_range, df_pe['Brand_5_Cross_4_SW'], color='orange')\n",
    "axs[0][1].set_title('Cross Brand 5 v/s 4 Segment Well - Off')\n",
    "axs[0][1].set_xlabel('Price 4')\n",
    "axs[0][1].set_ylabel('Elasticity')\n",
    "axs[0][1].bar(x=2.01, width=0.5, height=0.8, color='r')\n",
    "\n",
    "axs[1][0].plot(price_range, df_pe['Brand_5_SC'], color='orange')\n",
    "axs[1][0].set_title('Brand 5 Segment Career Focused')\n",
    "axs[1][0].set_xlabel('Price 5')\n",
    "axs[1][0].set_xlabel('Elasticity')\n",
    "axs[1][0].bar(x=2.455, width=0.69, height=-0.6, color='y')\n",
    "\n",
    "axs[1][1].plot(price_range, df_pe['Brand_5_Cross_4_SC'], color='orange')\n",
    "axs[1][1].set_title('Cross Brand 5 v/s 4 Segment Career Focused')\n",
    "axs[1][1].set_xlabel('Price 4')\n",
    "axs[1][1].set_ylabel('Elasticity')\n",
    "axs[1][1].bar(x=2.01, width=0.5, height=0.15, color='r')\n",
    "\n",
    "plt.show()"
   ]
  },
  {
   "cell_type": "markdown",
   "metadata": {},
   "source": [
    "**Example -  \n",
    "    if brand 5 cost 2.4 our own price elasticity = -1.9   \n",
    "    if brand 4 cost 2.0 our cross price elasticity = 1.5  \n",
    "i.e  - if brand 4 reduces it's price by 1% our sales drop by 1.5%  \n",
    " To tackle we reduce brand 5 price by 1% we increase our sales by 1.9%  \n",
    "Net-effect 0.4% gain in market share**  \n",
    "\n",
    "***To sum it all if brand 4 decreases price by 1%, we can decrease our price by 0.75% without losing any customers***"
   ]
  },
  {
   "cell_type": "markdown",
   "metadata": {},
   "source": [
    "---\n",
    "***Standard & Few Opportunities Segments on Brand 1 and Brand 2*** "
   ]
  },
  {
   "cell_type": "code",
   "execution_count": 44,
   "metadata": {},
   "outputs": [],
   "source": [
    "# Own PE Brand 1 Standard\n",
    "df_pe = own_price_elasticity_per_segment(price_range, brand_choice_ss, bc_coef_ss, df_pe, [1,'S'], model_brand_choice_ss)\n",
    "\n",
    "# Own PE Brand 1 Few Opportunities\n",
    "df_pe = own_price_elasticity_per_segment(price_range, brand_choice_sf, bc_coef_sf, df_pe, [1,'F'], model_brand_choice_sf)"
   ]
  },
  {
   "cell_type": "code",
   "execution_count": 45,
   "metadata": {},
   "outputs": [],
   "source": [
    "# cross price elasticity brand 1 --> 2 (Standard)\n",
    "df_pe = cross_price_elasticity_per_segment(price_range, brand_choice_ss, bc_coef_ss, df_pe, [1,2,'S'], model_brand_choice_ss)\n",
    "\n",
    "# cross price elasticity brand 1 --> 2 (Few Opportunities)\n",
    "df_pe = cross_price_elasticity_per_segment(price_range, brand_choice_sf, bc_coef_sf, df_pe, [1,2,'F'], model_brand_choice_sf)\n"
   ]
  },
  {
   "cell_type": "code",
   "execution_count": 52,
   "metadata": {},
   "outputs": [
    {
     "data": {
      "image/png": "[encoded data removed]",
      "text/plain": [
       "<Figure size 1008x720 with 4 Axes>"
      ]
     },
     "metadata": {},
     "output_type": "display_data"
    }
   ],
   "source": [
    "fig, axs = plt.subplots(2,2, figsize=(14,10))\n",
    "\n",
    "axs[0][0].plot(price_range, df_pe['Brand_1_SS'], color='orange')\n",
    "axs[0][0].set_title('Brand 1 Segment Standard')\n",
    "axs[0][0].set_xlabel('Price 1')\n",
    "axs[0][0].set_xlabel('Elasticity')\n",
    "axs[0][0].bar(x=1.345, width=0.49, height=-10, color='y')\n",
    "\n",
    "axs[0][1].plot(price_range, df_pe['Brand_1_Cross_2_SS'], color='orange')\n",
    "axs[0][1].set_title('Cross Brand 1 v/s 2 Segment Standard')\n",
    "axs[0][1].set_xlabel('Price 2')\n",
    "axs[0][1].set_ylabel('Elasticity')\n",
    "axs[0][1].bar(x=1.58, width=0.64, height=2.6, color='r')\n",
    "\n",
    "axs[1][0].plot(price_range, df_pe['Brand_1_SF'], color='orange')\n",
    "axs[1][0].set_title('Brand 1 Segment Few Opportunities')\n",
    "axs[1][0].set_xlabel('Price 1')\n",
    "axs[1][0].set_xlabel('Elasticity')\n",
    "axs[1][0].bar(x=1.345, width=0.49, height=-14, color='y')\n",
    "\n",
    "axs[1][1].plot(price_range, df_pe['Brand_1_Cross_2_SF'], color='orange')\n",
    "axs[1][1].set_title('Cross Brand 1 v/s 2 Segment Few Opportunities')\n",
    "axs[1][1].set_xlabel('Price 2')\n",
    "axs[1][1].set_ylabel('Elasticity')\n",
    "axs[1][1].bar(x=1.58, width=0.64, height=5.5, color='r')\n",
    "\n",
    "plt.show()"
   ]
  },
  {
   "cell_type": "code",
   "execution_count": 54,
   "metadata": {},
   "outputs": [
    {
     "data": {
      "text/html": [
       "<div>\n",
       "<style scoped>\n",
       "    .dataframe tbody tr th:only-of-type {\n",
       "        vertical-align: middle;\n",
       "    }\n",
       "\n",
       "    .dataframe tbody tr th {\n",
       "        vertical-align: top;\n",
       "    }\n",
       "\n",
       "    .dataframe thead th {\n",
       "        text-align: right;\n",
       "    }\n",
       "</style>\n",
       "<table border=\"1\" class=\"dataframe\">\n",
       "  <thead>\n",
       "    <tr style=\"text-align: right;\">\n",
       "      <th></th>\n",
       "      <th>Price_point</th>\n",
       "      <th>Brand_1_SF</th>\n",
       "      <th>Brand_1_Cross_2_SF</th>\n",
       "    </tr>\n",
       "  </thead>\n",
       "  <tbody>\n",
       "    <tr>\n",
       "      <th>65</th>\n",
       "      <td>1.15</td>\n",
       "      <td>-3.323281</td>\n",
       "      <td>4.357253</td>\n",
       "    </tr>\n",
       "    <tr>\n",
       "      <th>66</th>\n",
       "      <td>1.16</td>\n",
       "      <td>-3.405742</td>\n",
       "      <td>4.386330</td>\n",
       "    </tr>\n",
       "    <tr>\n",
       "      <th>67</th>\n",
       "      <td>1.17</td>\n",
       "      <td>-3.487863</td>\n",
       "      <td>4.415045</td>\n",
       "    </tr>\n",
       "    <tr>\n",
       "      <th>68</th>\n",
       "      <td>1.18</td>\n",
       "      <td>-3.569577</td>\n",
       "      <td>4.443389</td>\n",
       "    </tr>\n",
       "    <tr>\n",
       "      <th>69</th>\n",
       "      <td>1.19</td>\n",
       "      <td>-3.650823</td>\n",
       "      <td>4.471352</td>\n",
       "    </tr>\n",
       "    <tr>\n",
       "      <th>70</th>\n",
       "      <td>1.20</td>\n",
       "      <td>-3.731544</td>\n",
       "      <td>4.498924</td>\n",
       "    </tr>\n",
       "    <tr>\n",
       "      <th>71</th>\n",
       "      <td>1.21</td>\n",
       "      <td>-3.811686</td>\n",
       "      <td>4.526094</td>\n",
       "    </tr>\n",
       "    <tr>\n",
       "      <th>72</th>\n",
       "      <td>1.22</td>\n",
       "      <td>-3.891201</td>\n",
       "      <td>4.552853</td>\n",
       "    </tr>\n",
       "    <tr>\n",
       "      <th>73</th>\n",
       "      <td>1.23</td>\n",
       "      <td>-3.970046</td>\n",
       "      <td>4.579191</td>\n",
       "    </tr>\n",
       "    <tr>\n",
       "      <th>74</th>\n",
       "      <td>1.24</td>\n",
       "      <td>-4.048181</td>\n",
       "      <td>4.605096</td>\n",
       "    </tr>\n",
       "    <tr>\n",
       "      <th>75</th>\n",
       "      <td>1.25</td>\n",
       "      <td>-4.125573</td>\n",
       "      <td>4.630558</td>\n",
       "    </tr>\n",
       "    <tr>\n",
       "      <th>76</th>\n",
       "      <td>1.26</td>\n",
       "      <td>-4.202189</td>\n",
       "      <td>4.655566</td>\n",
       "    </tr>\n",
       "    <tr>\n",
       "      <th>77</th>\n",
       "      <td>1.27</td>\n",
       "      <td>-4.278005</td>\n",
       "      <td>4.680109</td>\n",
       "    </tr>\n",
       "    <tr>\n",
       "      <th>78</th>\n",
       "      <td>1.28</td>\n",
       "      <td>-4.352998</td>\n",
       "      <td>4.704176</td>\n",
       "    </tr>\n",
       "    <tr>\n",
       "      <th>79</th>\n",
       "      <td>1.29</td>\n",
       "      <td>-4.427150</td>\n",
       "      <td>4.727755</td>\n",
       "    </tr>\n",
       "  </tbody>\n",
       "</table>\n",
       "</div>"
      ],
      "text/plain": [
       "    Price_point  Brand_1_SF  Brand_1_Cross_2_SF\n",
       "65         1.15   -3.323281            4.357253\n",
       "66         1.16   -3.405742            4.386330\n",
       "67         1.17   -3.487863            4.415045\n",
       "68         1.18   -3.569577            4.443389\n",
       "69         1.19   -3.650823            4.471352\n",
       "70         1.20   -3.731544            4.498924\n",
       "71         1.21   -3.811686            4.526094\n",
       "72         1.22   -3.891201            4.552853\n",
       "73         1.23   -3.970046            4.579191\n",
       "74         1.24   -4.048181            4.605096\n",
       "75         1.25   -4.125573            4.630558\n",
       "76         1.26   -4.202189            4.655566\n",
       "77         1.27   -4.278005            4.680109\n",
       "78         1.28   -4.352998            4.704176\n",
       "79         1.29   -4.427150            4.727755"
      ]
     },
     "execution_count": 54,
     "metadata": {},
     "output_type": "execute_result"
    }
   ],
   "source": [
    "df_pe[['Price_point','Brand_1_SF','Brand_1_Cross_2_SF']].iloc[65:80,:]"
   ]
  },
  {
   "cell_type": "markdown",
   "metadata": {},
   "source": [
    "## Price Elasticity of Purchase Quantity"
   ]
  },
  {
   "cell_type": "code",
   "execution_count": 59,
   "metadata": {},
   "outputs": [],
   "source": [
    "df_pq = df_pa[df_pa['Incidence'] == 1]\n",
    "\n",
    "df_pq = pd.get_dummies(df_pq,columns=['Brand'], prefix = 'Brand', prefix_sep='_')"
   ]
  },
  {
   "cell_type": "code",
   "execution_count": 61,
   "metadata": {},
   "outputs": [
    {
     "data": {
      "text/html": [
       "<div>\n",
       "<style scoped>\n",
       "    .dataframe tbody tr th:only-of-type {\n",
       "        vertical-align: middle;\n",
       "    }\n",
       "\n",
       "    .dataframe tbody tr th {\n",
       "        vertical-align: top;\n",
       "    }\n",
       "\n",
       "    .dataframe thead th {\n",
       "        text-align: right;\n",
       "    }\n",
       "</style>\n",
       "<table border=\"1\" class=\"dataframe\">\n",
       "  <thead>\n",
       "    <tr style=\"text-align: right;\">\n",
       "      <th></th>\n",
       "      <th>ID</th>\n",
       "      <th>Day</th>\n",
       "      <th>Incidence</th>\n",
       "      <th>Quantity</th>\n",
       "      <th>Last_Inc_Brand</th>\n",
       "      <th>Last_Inc_Quantity</th>\n",
       "      <th>Price_1</th>\n",
       "      <th>Price_2</th>\n",
       "      <th>Price_3</th>\n",
       "      <th>Price_4</th>\n",
       "      <th>...</th>\n",
       "      <th>Segment</th>\n",
       "      <th>Segment_0</th>\n",
       "      <th>Segment_1</th>\n",
       "      <th>Segment_2</th>\n",
       "      <th>Segment_3</th>\n",
       "      <th>Brand_1</th>\n",
       "      <th>Brand_2</th>\n",
       "      <th>Brand_3</th>\n",
       "      <th>Brand_4</th>\n",
       "      <th>Brand_5</th>\n",
       "    </tr>\n",
       "  </thead>\n",
       "  <tbody>\n",
       "    <tr>\n",
       "      <th>count</th>\n",
       "      <td>1.463800e+04</td>\n",
       "      <td>14638.000000</td>\n",
       "      <td>14638.0</td>\n",
       "      <td>14638.000000</td>\n",
       "      <td>14638.000000</td>\n",
       "      <td>14638.000000</td>\n",
       "      <td>14638.000000</td>\n",
       "      <td>14638.000000</td>\n",
       "      <td>14638.000000</td>\n",
       "      <td>14638.000000</td>\n",
       "      <td>...</td>\n",
       "      <td>14638.000000</td>\n",
       "      <td>14638.000000</td>\n",
       "      <td>14638.000000</td>\n",
       "      <td>14638.000000</td>\n",
       "      <td>14638.000000</td>\n",
       "      <td>14638.000000</td>\n",
       "      <td>14638.000000</td>\n",
       "      <td>14638.000000</td>\n",
       "      <td>14638.000000</td>\n",
       "      <td>14638.000000</td>\n",
       "    </tr>\n",
       "    <tr>\n",
       "      <th>mean</th>\n",
       "      <td>2.000003e+08</td>\n",
       "      <td>359.607597</td>\n",
       "      <td>1.0</td>\n",
       "      <td>2.774559</td>\n",
       "      <td>1.535251</td>\n",
       "      <td>0.406955</td>\n",
       "      <td>1.384559</td>\n",
       "      <td>1.764717</td>\n",
       "      <td>2.006694</td>\n",
       "      <td>2.159658</td>\n",
       "      <td>...</td>\n",
       "      <td>1.562030</td>\n",
       "      <td>0.301134</td>\n",
       "      <td>0.151455</td>\n",
       "      <td>0.231657</td>\n",
       "      <td>0.315754</td>\n",
       "      <td>0.092226</td>\n",
       "      <td>0.310288</td>\n",
       "      <td>0.057453</td>\n",
       "      <td>0.199959</td>\n",
       "      <td>0.340074</td>\n",
       "    </tr>\n",
       "    <tr>\n",
       "      <th>std</th>\n",
       "      <td>1.423786e+02</td>\n",
       "      <td>205.346253</td>\n",
       "      <td>0.0</td>\n",
       "      <td>1.796736</td>\n",
       "      <td>2.060858</td>\n",
       "      <td>0.491283</td>\n",
       "      <td>0.090944</td>\n",
       "      <td>0.181667</td>\n",
       "      <td>0.046200</td>\n",
       "      <td>0.093253</td>\n",
       "      <td>...</td>\n",
       "      <td>1.216564</td>\n",
       "      <td>0.458767</td>\n",
       "      <td>0.358504</td>\n",
       "      <td>0.421906</td>\n",
       "      <td>0.464831</td>\n",
       "      <td>0.289354</td>\n",
       "      <td>0.462627</td>\n",
       "      <td>0.232714</td>\n",
       "      <td>0.399983</td>\n",
       "      <td>0.473750</td>\n",
       "    </tr>\n",
       "    <tr>\n",
       "      <th>min</th>\n",
       "      <td>2.000000e+08</td>\n",
       "      <td>1.000000</td>\n",
       "      <td>1.0</td>\n",
       "      <td>1.000000</td>\n",
       "      <td>0.000000</td>\n",
       "      <td>0.000000</td>\n",
       "      <td>1.100000</td>\n",
       "      <td>1.260000</td>\n",
       "      <td>1.870000</td>\n",
       "      <td>1.760000</td>\n",
       "      <td>...</td>\n",
       "      <td>0.000000</td>\n",
       "      <td>0.000000</td>\n",
       "      <td>0.000000</td>\n",
       "      <td>0.000000</td>\n",
       "      <td>0.000000</td>\n",
       "      <td>0.000000</td>\n",
       "      <td>0.000000</td>\n",
       "      <td>0.000000</td>\n",
       "      <td>0.000000</td>\n",
       "      <td>0.000000</td>\n",
       "    </tr>\n",
       "    <tr>\n",
       "      <th>25%</th>\n",
       "      <td>2.000001e+08</td>\n",
       "      <td>175.000000</td>\n",
       "      <td>1.0</td>\n",
       "      <td>2.000000</td>\n",
       "      <td>0.000000</td>\n",
       "      <td>0.000000</td>\n",
       "      <td>1.340000</td>\n",
       "      <td>1.570000</td>\n",
       "      <td>1.970000</td>\n",
       "      <td>2.120000</td>\n",
       "      <td>...</td>\n",
       "      <td>0.000000</td>\n",
       "      <td>0.000000</td>\n",
       "      <td>0.000000</td>\n",
       "      <td>0.000000</td>\n",
       "      <td>0.000000</td>\n",
       "      <td>0.000000</td>\n",
       "      <td>0.000000</td>\n",
       "      <td>0.000000</td>\n",
       "      <td>0.000000</td>\n",
       "      <td>0.000000</td>\n",
       "    </tr>\n",
       "    <tr>\n",
       "      <th>50%</th>\n",
       "      <td>2.000003e+08</td>\n",
       "      <td>355.000000</td>\n",
       "      <td>1.0</td>\n",
       "      <td>2.000000</td>\n",
       "      <td>0.000000</td>\n",
       "      <td>0.000000</td>\n",
       "      <td>1.390000</td>\n",
       "      <td>1.880000</td>\n",
       "      <td>2.010000</td>\n",
       "      <td>2.180000</td>\n",
       "      <td>...</td>\n",
       "      <td>2.000000</td>\n",
       "      <td>0.000000</td>\n",
       "      <td>0.000000</td>\n",
       "      <td>0.000000</td>\n",
       "      <td>0.000000</td>\n",
       "      <td>0.000000</td>\n",
       "      <td>0.000000</td>\n",
       "      <td>0.000000</td>\n",
       "      <td>0.000000</td>\n",
       "      <td>0.000000</td>\n",
       "    </tr>\n",
       "    <tr>\n",
       "      <th>75%</th>\n",
       "      <td>2.000004e+08</td>\n",
       "      <td>532.000000</td>\n",
       "      <td>1.0</td>\n",
       "      <td>3.000000</td>\n",
       "      <td>4.000000</td>\n",
       "      <td>1.000000</td>\n",
       "      <td>1.470000</td>\n",
       "      <td>1.890000</td>\n",
       "      <td>2.060000</td>\n",
       "      <td>2.240000</td>\n",
       "      <td>...</td>\n",
       "      <td>3.000000</td>\n",
       "      <td>1.000000</td>\n",
       "      <td>0.000000</td>\n",
       "      <td>0.000000</td>\n",
       "      <td>1.000000</td>\n",
       "      <td>0.000000</td>\n",
       "      <td>1.000000</td>\n",
       "      <td>0.000000</td>\n",
       "      <td>0.000000</td>\n",
       "      <td>1.000000</td>\n",
       "    </tr>\n",
       "    <tr>\n",
       "      <th>max</th>\n",
       "      <td>2.000005e+08</td>\n",
       "      <td>727.000000</td>\n",
       "      <td>1.0</td>\n",
       "      <td>15.000000</td>\n",
       "      <td>5.000000</td>\n",
       "      <td>1.000000</td>\n",
       "      <td>1.590000</td>\n",
       "      <td>1.900000</td>\n",
       "      <td>2.140000</td>\n",
       "      <td>2.260000</td>\n",
       "      <td>...</td>\n",
       "      <td>3.000000</td>\n",
       "      <td>1.000000</td>\n",
       "      <td>1.000000</td>\n",
       "      <td>1.000000</td>\n",
       "      <td>1.000000</td>\n",
       "      <td>1.000000</td>\n",
       "      <td>1.000000</td>\n",
       "      <td>1.000000</td>\n",
       "      <td>1.000000</td>\n",
       "      <td>1.000000</td>\n",
       "    </tr>\n",
       "  </tbody>\n",
       "</table>\n",
       "<p>8 rows × 33 columns</p>\n",
       "</div>"
      ],
      "text/plain": [
       "                 ID           Day  Incidence      Quantity  Last_Inc_Brand  \\\n",
       "count  1.463800e+04  14638.000000    14638.0  14638.000000    14638.000000   \n",
       "mean   2.000003e+08    359.607597        1.0      2.774559        1.535251   \n",
       "std    1.423786e+02    205.346253        0.0      1.796736        2.060858   \n",
       "min    2.000000e+08      1.000000        1.0      1.000000        0.000000   \n",
       "25%    2.000001e+08    175.000000        1.0      2.000000        0.000000   \n",
       "50%    2.000003e+08    355.000000        1.0      2.000000        0.000000   \n",
       "75%    2.000004e+08    532.000000        1.0      3.000000        4.000000   \n",
       "max    2.000005e+08    727.000000        1.0     15.000000        5.000000   \n",
       "\n",
       "       Last_Inc_Quantity       Price_1       Price_2       Price_3  \\\n",
       "count       14638.000000  14638.000000  14638.000000  14638.000000   \n",
       "mean            0.406955      1.384559      1.764717      2.006694   \n",
       "std             0.491283      0.090944      0.181667      0.046200   \n",
       "min             0.000000      1.100000      1.260000      1.870000   \n",
       "25%             0.000000      1.340000      1.570000      1.970000   \n",
       "50%             0.000000      1.390000      1.880000      2.010000   \n",
       "75%             1.000000      1.470000      1.890000      2.060000   \n",
       "max             1.000000      1.590000      1.900000      2.140000   \n",
       "\n",
       "            Price_4  ...       Segment     Segment_0     Segment_1  \\\n",
       "count  14638.000000  ...  14638.000000  14638.000000  14638.000000   \n",
       "mean       2.159658  ...      1.562030      0.301134      0.151455   \n",
       "std        0.093253  ...      1.216564      0.458767      0.358504   \n",
       "min        1.760000  ...      0.000000      0.000000      0.000000   \n",
       "25%        2.120000  ...      0.000000      0.000000      0.000000   \n",
       "50%        2.180000  ...      2.000000      0.000000      0.000000   \n",
       "75%        2.240000  ...      3.000000      1.000000      0.000000   \n",
       "max        2.260000  ...      3.000000      1.000000      1.000000   \n",
       "\n",
       "          Segment_2     Segment_3       Brand_1       Brand_2       Brand_3  \\\n",
       "count  14638.000000  14638.000000  14638.000000  14638.000000  14638.000000   \n",
       "mean       0.231657      0.315754      0.092226      0.310288      0.057453   \n",
       "std        0.421906      0.464831      0.289354      0.462627      0.232714   \n",
       "min        0.000000      0.000000      0.000000      0.000000      0.000000   \n",
       "25%        0.000000      0.000000      0.000000      0.000000      0.000000   \n",
       "50%        0.000000      0.000000      0.000000      0.000000      0.000000   \n",
       "75%        0.000000      1.000000      0.000000      1.000000      0.000000   \n",
       "max        1.000000      1.000000      1.000000      1.000000      1.000000   \n",
       "\n",
       "            Brand_4       Brand_5  \n",
       "count  14638.000000  14638.000000  \n",
       "mean       0.199959      0.340074  \n",
       "std        0.399983      0.473750  \n",
       "min        0.000000      0.000000  \n",
       "25%        0.000000      0.000000  \n",
       "50%        0.000000      0.000000  \n",
       "75%        0.000000      1.000000  \n",
       "max        1.000000      1.000000  \n",
       "\n",
       "[8 rows x 33 columns]"
      ]
     },
     "execution_count": 61,
     "metadata": {},
     "output_type": "execute_result"
    }
   ],
   "source": [
    "df_pq.describe()"
   ]
  },
  {
   "cell_type": "code",
   "execution_count": 65,
   "metadata": {},
   "outputs": [],
   "source": [
    "# Method to calculate the price for the resp brand\n",
    "df_pq['Price_Incidence'] = (df_pq['Brand_1'] * df_pq['Price_1'] +\n",
    "                           df_pq['Brand_2'] * df_pq['Price_2'] +\n",
    "                           df_pq['Brand_3'] * df_pq['Price_3'] +\n",
    "                           df_pq['Brand_4'] * df_pq['Price_4'] +\n",
    "                           df_pq['Brand_5'] * df_pq['Price_5'])"
   ]
  },
  {
   "cell_type": "code",
   "execution_count": 66,
   "metadata": {},
   "outputs": [],
   "source": [
    "# Method to calculate promotion for resp brand\n",
    "df_pq['Promotion_Incidence'] = (df_pq['Brand_1'] * df_pq['Promotion_1'] +\n",
    "                           df_pq['Brand_2'] * df_pq['Promotion_2'] +\n",
    "                           df_pq['Brand_3'] * df_pq['Promotion_3'] +\n",
    "                           df_pq['Brand_4'] * df_pq['Promotion_4'] +\n",
    "                           df_pq['Brand_5'] * df_pq['Promotion_5'])"
   ]
  },
  {
   "cell_type": "markdown",
   "metadata": {},
   "source": [
    "#### Model "
   ]
  },
  {
   "cell_type": "code",
   "execution_count": 67,
   "metadata": {},
   "outputs": [],
   "source": [
    "# target variable\n",
    "Y = df_pq['Quantity']\n",
    "\n",
    "# feature variable\n",
    "X = df_pq[['Price_Incidence', 'Promotion_Incidence']]"
   ]
  },
  {
   "cell_type": "code",
   "execution_count": 68,
   "metadata": {},
   "outputs": [
    {
     "data": {
      "text/plain": [
       "LinearRegression()"
      ]
     },
     "execution_count": 68,
     "metadata": {},
     "output_type": "execute_result"
    }
   ],
   "source": [
    "model_quantity = LinearRegression()\n",
    "model_quantity.fit(X,Y)"
   ]
  },
  {
   "cell_type": "code",
   "execution_count": 69,
   "metadata": {},
   "outputs": [
    {
     "data": {
      "text/plain": [
       "array([-0.8173651 , -0.10504673])"
      ]
     },
     "execution_count": 69,
     "metadata": {},
     "output_type": "execute_result"
    }
   ],
   "source": [
    "model_quantity.coef_"
   ]
  },
  {
   "cell_type": "markdown",
   "metadata": {},
   "source": [
    "#### Price Elasticity Estimation"
   ]
  },
  {
   "cell_type": "code",
   "execution_count": 72,
   "metadata": {},
   "outputs": [],
   "source": [
    "df_pe_pq = pd.DataFrame(index= np.arange(price_range.size))\n",
    "df_pe_pq['Price_Incidence'] = price_range"
   ]
  },
  {
   "cell_type": "code",
   "execution_count": 73,
   "metadata": {},
   "outputs": [],
   "source": [
    "beta_quant = model_quantity.coef_[0]"
   ]
  },
  {
   "cell_type": "code",
   "execution_count": 78,
   "metadata": {},
   "outputs": [],
   "source": [
    "def pe_quant_prom(df, model, beta, price_range, df_pe, promotion):\n",
    "    \n",
    "    pred = model.predict(df)\n",
    "    pe = beta * price_range / pred\n",
    "\n",
    "    col_name = 'PE_Quant_Prom_'+str(promotion)\n",
    "    df_pe[col_name] = pe\n",
    "    \n",
    "    return df_pe"
   ]
  },
  {
   "cell_type": "code",
   "execution_count": 92,
   "metadata": {},
   "outputs": [],
   "source": [
    "# no promotion\n",
    "df_pe_pq['Promotion_Incidence'] = 1\n",
    "df_pe = pe_quant_prom(df_pe_pq, model_quantity, beta_quant, price_range, df_pe, 1)"
   ]
  },
  {
   "cell_type": "code",
   "execution_count": 93,
   "metadata": {},
   "outputs": [],
   "source": [
    "# promotion\n",
    "df_pe_pq['Promotion_Incidence'] = 0\n",
    "df_pe = pe_quant_prom(df_pe_pq, model_quantity, beta_quant, price_range, df_pe, 0)"
   ]
  },
  {
   "cell_type": "code",
   "execution_count": 94,
   "metadata": {},
   "outputs": [
    {
     "data": {
      "image/png": "[encoded data removed]",
      "text/plain": [
       "<Figure size 648x432 with 1 Axes>"
      ]
     },
     "metadata": {},
     "output_type": "display_data"
    }
   ],
   "source": [
    "plt.figure(figsize=(9,6))\n",
    "\n",
    "plt.plot(price_range, df_pe['PE_Quant_Prom_1'], color='orange')\n",
    "plt.plot(price_range, df_pe['PE_Quant_Prom_0'], color='b')\n",
    "plt.title('Price Elasticity of Purchase Quantity with Promotion')\n",
    "plt.legend(['Promotion','No Promotion'])\n",
    "plt.show()"
   ]
  }
 ],
 "metadata": {
  "kernelspec": {
   "display_name": "Python 3",
   "language": "python",
   "name": "python3"
  },
  "language_info": {
   "codemirror_mode": {
    "name": "ipython",
    "version": 3
   },
   "file_extension": ".py",
   "mimetype": "text/x-python",
   "name": "python",
   "nbconvert_exporter": "python",
   "pygments_lexer": "ipython3",
   "version": "3.8.5"
  }
 },
 "nbformat": 4,
 "nbformat_minor": 4
}
