{
 "cells": [
  {
   "cell_type": "markdown",
   "metadata": {},
   "source": [
    "## Library Imports"
   ]
  },
  {
   "cell_type": "code",
   "execution_count": 1,
   "metadata": {},
   "outputs": [],
   "source": [
    "import numpy as np\n",
    "import pandas as pd\n",
    "import scipy\n",
    "import pickle\n",
    "import matplotlib.pyplot as plt\n",
    "import seaborn as sns\n",
    "sns.set()\n",
    "\n",
    "from sklearn.linear_model import LogisticRegression\n",
    "from sklearn.preprocessing import StandardScaler\n",
    "from sklearn.decomposition import PCA\n",
    "from sklearn.cluster import KMeans"
   ]
  },
  {
   "cell_type": "code",
   "execution_count": 2,
   "metadata": {},
   "outputs": [],
   "source": [
    "df_purchase = pd.read_csv('purchase data.csv')"
   ]
  },
  {
   "cell_type": "markdown",
   "metadata": {},
   "source": [
    "## Data Segmentation\n",
    "\n",
    "### Import Segmentation model"
   ]
  },
  {
   "cell_type": "code",
   "execution_count": 3,
   "metadata": {},
   "outputs": [],
   "source": [
    "scaler = pickle.load(open('scaler.pickle','rb'))\n",
    "\n",
    "pca = pickle.load(open('pca.pickle','rb'))\n",
    "\n",
    "kmeans_pca = pickle.load(open('kmeans_pca.pickle','rb'))"
   ]
  },
  {
   "cell_type": "markdown",
   "metadata": {},
   "source": [
    "### Standardization"
   ]
  },
  {
   "cell_type": "code",
   "execution_count": 4,
   "metadata": {},
   "outputs": [],
   "source": [
    "features = df_purchase[['Sex', 'Marital status', 'Age', 'Education', 'Income','Occupation', 'Settlement size']]\n",
    "df_purchase_seg_std = scaler.transform(features)"
   ]
  },
  {
   "cell_type": "markdown",
   "metadata": {},
   "source": [
    "### PCA "
   ]
  },
  {
   "cell_type": "code",
   "execution_count": 5,
   "metadata": {},
   "outputs": [],
   "source": [
    "df_purchase_seg_pca = pca.transform(df_purchase_seg_std)"
   ]
  },
  {
   "cell_type": "markdown",
   "metadata": {},
   "source": [
    "### K-means PCA"
   ]
  },
  {
   "cell_type": "code",
   "execution_count": 6,
   "metadata": {},
   "outputs": [],
   "source": [
    "df_purchase_seg_kmeans_pca = kmeans_pca.predict(df_purchase_seg_pca)\n",
    "\n",
    "df_purchase_predictors = df_purchase.copy()\n",
    "\n",
    "df_purchase_predictors['Segment'] = df_purchase_seg_kmeans_pca"
   ]
  },
  {
   "cell_type": "code",
   "execution_count": 7,
   "metadata": {},
   "outputs": [],
   "source": [
    "segment_dummies = pd.get_dummies(df_purchase_seg_kmeans_pca,\n",
    "                                prefix = 'Segement',\n",
    "                                prefix_sep='_')\n",
    "df_purchase_predictors = pd.concat([df_purchase_predictors,\n",
    "                                  segment_dummies], axis=1)\n",
    "\n",
    "df_pa = df_purchase_predictors"
   ]
  },
  {
   "cell_type": "markdown",
   "metadata": {},
   "source": [
    "## Purchase Probability Model"
   ]
  },
  {
   "cell_type": "code",
   "execution_count": 8,
   "metadata": {},
   "outputs": [],
   "source": [
    "Y = df_pa['Incidence']"
   ]
  },
  {
   "cell_type": "code",
   "execution_count": 9,
   "metadata": {},
   "outputs": [],
   "source": [
    "X = pd.DataFrame()\n",
    "X['Mean_Price'] = (df_pa['Price_1'] +\n",
    "                   df_pa['Price_2'] +\n",
    "                   df_pa['Price_3'] +\n",
    "                   df_pa['Price_4'] +\n",
    "                   df_pa['Price_5']) / 5"
   ]
  },
  {
   "cell_type": "code",
   "execution_count": 10,
   "metadata": {},
   "outputs": [
    {
     "data": {
      "text/plain": [
       "LogisticRegression(solver='sag')"
      ]
     },
     "execution_count": 10,
     "metadata": {},
     "output_type": "execute_result"
    }
   ],
   "source": [
    "model_purchase = LogisticRegression(solver='sag')\n",
    "model_purchase.fit(X,Y)"
   ]
  },
  {
   "cell_type": "code",
   "execution_count": 11,
   "metadata": {},
   "outputs": [
    {
     "data": {
      "text/plain": [
       "array([[-2.34808711]])"
      ]
     },
     "execution_count": 11,
     "metadata": {},
     "output_type": "execute_result"
    }
   ],
   "source": [
    "model_purchase.coef_"
   ]
  },
  {
   "cell_type": "markdown",
   "metadata": {},
   "source": [
    "### Price Elasticity of Purchase Probability"
   ]
  },
  {
   "cell_type": "code",
   "execution_count": 12,
   "metadata": {},
   "outputs": [
    {
     "data": {
      "text/html": [
       "<div>\n",
       "<style scoped>\n",
       "    .dataframe tbody tr th:only-of-type {\n",
       "        vertical-align: middle;\n",
       "    }\n",
       "\n",
       "    .dataframe tbody tr th {\n",
       "        vertical-align: top;\n",
       "    }\n",
       "\n",
       "    .dataframe thead th {\n",
       "        text-align: right;\n",
       "    }\n",
       "</style>\n",
       "<table border=\"1\" class=\"dataframe\">\n",
       "  <thead>\n",
       "    <tr style=\"text-align: right;\">\n",
       "      <th></th>\n",
       "      <th>Price_1</th>\n",
       "      <th>Price_2</th>\n",
       "      <th>Price_3</th>\n",
       "      <th>Price_4</th>\n",
       "      <th>Price_5</th>\n",
       "    </tr>\n",
       "  </thead>\n",
       "  <tbody>\n",
       "    <tr>\n",
       "      <th>count</th>\n",
       "      <td>58693.000000</td>\n",
       "      <td>58693.000000</td>\n",
       "      <td>58693.000000</td>\n",
       "      <td>58693.000000</td>\n",
       "      <td>58693.000000</td>\n",
       "    </tr>\n",
       "    <tr>\n",
       "      <th>mean</th>\n",
       "      <td>1.392074</td>\n",
       "      <td>1.780999</td>\n",
       "      <td>2.006789</td>\n",
       "      <td>2.159945</td>\n",
       "      <td>2.654798</td>\n",
       "    </tr>\n",
       "    <tr>\n",
       "      <th>std</th>\n",
       "      <td>0.091139</td>\n",
       "      <td>0.170868</td>\n",
       "      <td>0.046867</td>\n",
       "      <td>0.089825</td>\n",
       "      <td>0.098272</td>\n",
       "    </tr>\n",
       "    <tr>\n",
       "      <th>min</th>\n",
       "      <td>1.100000</td>\n",
       "      <td>1.260000</td>\n",
       "      <td>1.870000</td>\n",
       "      <td>1.760000</td>\n",
       "      <td>2.110000</td>\n",
       "    </tr>\n",
       "    <tr>\n",
       "      <th>25%</th>\n",
       "      <td>1.340000</td>\n",
       "      <td>1.580000</td>\n",
       "      <td>1.970000</td>\n",
       "      <td>2.120000</td>\n",
       "      <td>2.630000</td>\n",
       "    </tr>\n",
       "    <tr>\n",
       "      <th>50%</th>\n",
       "      <td>1.390000</td>\n",
       "      <td>1.880000</td>\n",
       "      <td>2.010000</td>\n",
       "      <td>2.170000</td>\n",
       "      <td>2.670000</td>\n",
       "    </tr>\n",
       "    <tr>\n",
       "      <th>75%</th>\n",
       "      <td>1.470000</td>\n",
       "      <td>1.890000</td>\n",
       "      <td>2.060000</td>\n",
       "      <td>2.240000</td>\n",
       "      <td>2.700000</td>\n",
       "    </tr>\n",
       "    <tr>\n",
       "      <th>max</th>\n",
       "      <td>1.590000</td>\n",
       "      <td>1.900000</td>\n",
       "      <td>2.140000</td>\n",
       "      <td>2.260000</td>\n",
       "      <td>2.800000</td>\n",
       "    </tr>\n",
       "  </tbody>\n",
       "</table>\n",
       "</div>"
      ],
      "text/plain": [
       "            Price_1       Price_2       Price_3       Price_4       Price_5\n",
       "count  58693.000000  58693.000000  58693.000000  58693.000000  58693.000000\n",
       "mean       1.392074      1.780999      2.006789      2.159945      2.654798\n",
       "std        0.091139      0.170868      0.046867      0.089825      0.098272\n",
       "min        1.100000      1.260000      1.870000      1.760000      2.110000\n",
       "25%        1.340000      1.580000      1.970000      2.120000      2.630000\n",
       "50%        1.390000      1.880000      2.010000      2.170000      2.670000\n",
       "75%        1.470000      1.890000      2.060000      2.240000      2.700000\n",
       "max        1.590000      1.900000      2.140000      2.260000      2.800000"
      ]
     },
     "execution_count": 12,
     "metadata": {},
     "output_type": "execute_result"
    }
   ],
   "source": [
    "df_pa[['Price_1','Price_2','Price_3','Price_4','Price_5']].describe()"
   ]
  },
  {
   "cell_type": "code",
   "execution_count": 13,
   "metadata": {},
   "outputs": [],
   "source": [
    "price_range = np.arange(0.5,3.5,0.01)\n",
    "\n",
    "df_price_range = pd.DataFrame(price_range)"
   ]
  },
  {
   "cell_type": "code",
   "execution_count": 14,
   "metadata": {},
   "outputs": [],
   "source": [
    "df_price_e = pd.DataFrame(price_range)\n",
    "df_price_e = df_price_e.rename(columns = {0:'Price_point'})"
   ]
  },
  {
   "cell_type": "markdown",
   "metadata": {},
   "source": [
    "$Elasticity = {\\frac {\\frac{\\delta Pr(purchase)}{Pr(purchase)}} {\\frac{\\delta Price}{Price}}} $\n",
    "\n",
    "\n",
    "$ Elasticity = {\\beta} * price * (1- Pr(purchase) $"
   ]
  },
  {
   "cell_type": "markdown",
   "metadata": {},
   "source": [
    "### Purchase Probalities by Segment"
   ]
  },
  {
   "cell_type": "code",
   "execution_count": 15,
   "metadata": {},
   "outputs": [],
   "source": [
    "def plot_elasticity(df, price_range, df_price_range, df_price_e):\n",
    "    \n",
    "    col_name = ''\n",
    "    for i in range(-1,4):\n",
    "        if i != -1:\n",
    "            temp = df[df['Segment'] == i]\n",
    "            col_name = 'PE_S'+str(i)\n",
    "        else:\n",
    "            temp = df\n",
    "            col_name = 'PE_ALL'\n",
    "\n",
    "        Y = temp['Incidence']\n",
    "\n",
    "        X = pd.DataFrame()\n",
    "        X['Mean_Price'] = (temp['Price_1'] +\n",
    "                           temp['Price_2'] +\n",
    "                           temp['Price_3'] +\n",
    "                           temp['Price_4'] +\n",
    "                           temp['Price_5']) / 5\n",
    "\n",
    "        model_purchase = LogisticRegression(solver='sag')\n",
    "        model_purchase.fit(X,Y)\n",
    "\n",
    "        Y_pr = model_purchase.predict_proba(df_price_range)\n",
    "        purchase_pr = Y_pr[:][:,1]\n",
    "\n",
    "        pe = model_purchase.coef_[:,0] * price_range * (1 - purchase_pr)\n",
    "\n",
    "        df_price_e[col_name] = pe\n",
    "\n",
    "    return df_price_e\n",
    "\n",
    "temp_df = plot_elasticity(df_pa, price_range, df_price_range, df_price_e)"
   ]
  },
  {
   "cell_type": "code",
   "execution_count": 16,
   "metadata": {},
   "outputs": [
    {
     "data": {
      "text/html": [
       "<div>\n",
       "<style scoped>\n",
       "    .dataframe tbody tr th:only-of-type {\n",
       "        vertical-align: middle;\n",
       "    }\n",
       "\n",
       "    .dataframe tbody tr th {\n",
       "        vertical-align: top;\n",
       "    }\n",
       "\n",
       "    .dataframe thead th {\n",
       "        text-align: right;\n",
       "    }\n",
       "</style>\n",
       "<table border=\"1\" class=\"dataframe\">\n",
       "  <thead>\n",
       "    <tr style=\"text-align: right;\">\n",
       "      <th></th>\n",
       "      <th>Price_point</th>\n",
       "      <th>PE_ALL</th>\n",
       "      <th>PE_S0</th>\n",
       "      <th>PE_S1</th>\n",
       "      <th>PE_S2</th>\n",
       "      <th>PE_S3</th>\n",
       "    </tr>\n",
       "  </thead>\n",
       "  <tbody>\n",
       "    <tr>\n",
       "      <th>70</th>\n",
       "      <td>1.20</td>\n",
       "      <td>-0.891388</td>\n",
       "      <td>-0.686274</td>\n",
       "      <td>-0.997187</td>\n",
       "      <td>-0.702439</td>\n",
       "      <td>-0.804378</td>\n",
       "    </tr>\n",
       "    <tr>\n",
       "      <th>71</th>\n",
       "      <td>1.21</td>\n",
       "      <td>-0.913305</td>\n",
       "      <td>-0.699208</td>\n",
       "      <td>-1.012957</td>\n",
       "      <td>-0.713016</td>\n",
       "      <td>-0.835002</td>\n",
       "    </tr>\n",
       "    <tr>\n",
       "      <th>72</th>\n",
       "      <td>1.22</td>\n",
       "      <td>-0.935585</td>\n",
       "      <td>-0.712294</td>\n",
       "      <td>-1.028843</td>\n",
       "      <td>-0.723674</td>\n",
       "      <td>-0.866561</td>\n",
       "    </tr>\n",
       "    <tr>\n",
       "      <th>73</th>\n",
       "      <td>1.23</td>\n",
       "      <td>-0.958228</td>\n",
       "      <td>-0.725532</td>\n",
       "      <td>-1.044844</td>\n",
       "      <td>-0.734414</td>\n",
       "      <td>-0.899067</td>\n",
       "    </tr>\n",
       "    <tr>\n",
       "      <th>74</th>\n",
       "      <td>1.24</td>\n",
       "      <td>-0.981234</td>\n",
       "      <td>-0.738923</td>\n",
       "      <td>-1.060959</td>\n",
       "      <td>-0.745235</td>\n",
       "      <td>-0.932537</td>\n",
       "    </tr>\n",
       "    <tr>\n",
       "      <th>75</th>\n",
       "      <td>1.25</td>\n",
       "      <td>-1.004604</td>\n",
       "      <td>-0.752467</td>\n",
       "      <td>-1.077185</td>\n",
       "      <td>-0.756136</td>\n",
       "      <td>-0.966984</td>\n",
       "    </tr>\n",
       "    <tr>\n",
       "      <th>76</th>\n",
       "      <td>1.26</td>\n",
       "      <td>-1.028336</td>\n",
       "      <td>-0.766163</td>\n",
       "      <td>-1.093523</td>\n",
       "      <td>-0.767118</td>\n",
       "      <td>-1.002421</td>\n",
       "    </tr>\n",
       "    <tr>\n",
       "      <th>77</th>\n",
       "      <td>1.27</td>\n",
       "      <td>-1.052431</td>\n",
       "      <td>-0.780012</td>\n",
       "      <td>-1.109971</td>\n",
       "      <td>-0.778180</td>\n",
       "      <td>-1.038860</td>\n",
       "    </tr>\n",
       "    <tr>\n",
       "      <th>78</th>\n",
       "      <td>1.28</td>\n",
       "      <td>-1.076889</td>\n",
       "      <td>-0.794014</td>\n",
       "      <td>-1.126527</td>\n",
       "      <td>-0.789321</td>\n",
       "      <td>-1.076313</td>\n",
       "    </tr>\n",
       "    <tr>\n",
       "      <th>79</th>\n",
       "      <td>1.29</td>\n",
       "      <td>-1.101707</td>\n",
       "      <td>-0.808167</td>\n",
       "      <td>-1.143191</td>\n",
       "      <td>-0.800542</td>\n",
       "      <td>-1.114791</td>\n",
       "    </tr>\n",
       "    <tr>\n",
       "      <th>80</th>\n",
       "      <td>1.30</td>\n",
       "      <td>-1.126887</td>\n",
       "      <td>-0.822473</td>\n",
       "      <td>-1.159961</td>\n",
       "      <td>-0.811841</td>\n",
       "      <td>-1.154304</td>\n",
       "    </tr>\n",
       "    <tr>\n",
       "      <th>81</th>\n",
       "      <td>1.31</td>\n",
       "      <td>-1.152425</td>\n",
       "      <td>-0.836931</td>\n",
       "      <td>-1.176836</td>\n",
       "      <td>-0.823219</td>\n",
       "      <td>-1.194860</td>\n",
       "    </tr>\n",
       "    <tr>\n",
       "      <th>82</th>\n",
       "      <td>1.32</td>\n",
       "      <td>-1.178322</td>\n",
       "      <td>-0.851540</td>\n",
       "      <td>-1.193814</td>\n",
       "      <td>-0.834676</td>\n",
       "      <td>-1.236467</td>\n",
       "    </tr>\n",
       "    <tr>\n",
       "      <th>83</th>\n",
       "      <td>1.33</td>\n",
       "      <td>-1.204574</td>\n",
       "      <td>-0.866300</td>\n",
       "      <td>-1.210895</td>\n",
       "      <td>-0.846210</td>\n",
       "      <td>-1.279132</td>\n",
       "    </tr>\n",
       "    <tr>\n",
       "      <th>84</th>\n",
       "      <td>1.34</td>\n",
       "      <td>-1.231182</td>\n",
       "      <td>-0.881212</td>\n",
       "      <td>-1.228076</td>\n",
       "      <td>-0.857821</td>\n",
       "      <td>-1.322861</td>\n",
       "    </tr>\n",
       "    <tr>\n",
       "      <th>85</th>\n",
       "      <td>1.35</td>\n",
       "      <td>-1.258141</td>\n",
       "      <td>-0.896273</td>\n",
       "      <td>-1.245357</td>\n",
       "      <td>-0.869509</td>\n",
       "      <td>-1.367657</td>\n",
       "    </tr>\n",
       "    <tr>\n",
       "      <th>86</th>\n",
       "      <td>1.36</td>\n",
       "      <td>-1.285451</td>\n",
       "      <td>-0.911485</td>\n",
       "      <td>-1.262736</td>\n",
       "      <td>-0.881273</td>\n",
       "      <td>-1.413524</td>\n",
       "    </tr>\n",
       "    <tr>\n",
       "      <th>87</th>\n",
       "      <td>1.37</td>\n",
       "      <td>-1.313109</td>\n",
       "      <td>-0.926847</td>\n",
       "      <td>-1.280211</td>\n",
       "      <td>-0.893113</td>\n",
       "      <td>-1.460463</td>\n",
       "    </tr>\n",
       "    <tr>\n",
       "      <th>88</th>\n",
       "      <td>1.38</td>\n",
       "      <td>-1.341111</td>\n",
       "      <td>-0.942357</td>\n",
       "      <td>-1.297782</td>\n",
       "      <td>-0.905029</td>\n",
       "      <td>-1.508475</td>\n",
       "    </tr>\n",
       "    <tr>\n",
       "      <th>89</th>\n",
       "      <td>1.39</td>\n",
       "      <td>-1.369456</td>\n",
       "      <td>-0.958016</td>\n",
       "      <td>-1.315447</td>\n",
       "      <td>-0.917020</td>\n",
       "      <td>-1.557560</td>\n",
       "    </tr>\n",
       "    <tr>\n",
       "      <th>90</th>\n",
       "      <td>1.40</td>\n",
       "      <td>-1.398139</td>\n",
       "      <td>-0.973823</td>\n",
       "      <td>-1.333203</td>\n",
       "      <td>-0.929085</td>\n",
       "      <td>-1.607713</td>\n",
       "    </tr>\n",
       "    <tr>\n",
       "      <th>91</th>\n",
       "      <td>1.41</td>\n",
       "      <td>-1.427158</td>\n",
       "      <td>-0.989776</td>\n",
       "      <td>-1.351051</td>\n",
       "      <td>-0.941224</td>\n",
       "      <td>-1.658933</td>\n",
       "    </tr>\n",
       "    <tr>\n",
       "      <th>92</th>\n",
       "      <td>1.42</td>\n",
       "      <td>-1.456510</td>\n",
       "      <td>-1.005877</td>\n",
       "      <td>-1.368988</td>\n",
       "      <td>-0.953437</td>\n",
       "      <td>-1.711213</td>\n",
       "    </tr>\n",
       "    <tr>\n",
       "      <th>93</th>\n",
       "      <td>1.43</td>\n",
       "      <td>-1.486189</td>\n",
       "      <td>-1.022123</td>\n",
       "      <td>-1.387013</td>\n",
       "      <td>-0.965723</td>\n",
       "      <td>-1.764546</td>\n",
       "    </tr>\n",
       "    <tr>\n",
       "      <th>94</th>\n",
       "      <td>1.44</td>\n",
       "      <td>-1.516193</td>\n",
       "      <td>-1.038514</td>\n",
       "      <td>-1.405124</td>\n",
       "      <td>-0.978081</td>\n",
       "      <td>-1.818924</td>\n",
       "    </tr>\n",
       "    <tr>\n",
       "      <th>95</th>\n",
       "      <td>1.45</td>\n",
       "      <td>-1.546518</td>\n",
       "      <td>-1.055050</td>\n",
       "      <td>-1.423321</td>\n",
       "      <td>-0.990510</td>\n",
       "      <td>-1.874338</td>\n",
       "    </tr>\n",
       "    <tr>\n",
       "      <th>96</th>\n",
       "      <td>1.46</td>\n",
       "      <td>-1.577158</td>\n",
       "      <td>-1.071728</td>\n",
       "      <td>-1.441600</td>\n",
       "      <td>-1.003011</td>\n",
       "      <td>-1.930775</td>\n",
       "    </tr>\n",
       "  </tbody>\n",
       "</table>\n",
       "</div>"
      ],
      "text/plain": [
       "    Price_point    PE_ALL     PE_S0     PE_S1     PE_S2     PE_S3\n",
       "70         1.20 -0.891388 -0.686274 -0.997187 -0.702439 -0.804378\n",
       "71         1.21 -0.913305 -0.699208 -1.012957 -0.713016 -0.835002\n",
       "72         1.22 -0.935585 -0.712294 -1.028843 -0.723674 -0.866561\n",
       "73         1.23 -0.958228 -0.725532 -1.044844 -0.734414 -0.899067\n",
       "74         1.24 -0.981234 -0.738923 -1.060959 -0.745235 -0.932537\n",
       "75         1.25 -1.004604 -0.752467 -1.077185 -0.756136 -0.966984\n",
       "76         1.26 -1.028336 -0.766163 -1.093523 -0.767118 -1.002421\n",
       "77         1.27 -1.052431 -0.780012 -1.109971 -0.778180 -1.038860\n",
       "78         1.28 -1.076889 -0.794014 -1.126527 -0.789321 -1.076313\n",
       "79         1.29 -1.101707 -0.808167 -1.143191 -0.800542 -1.114791\n",
       "80         1.30 -1.126887 -0.822473 -1.159961 -0.811841 -1.154304\n",
       "81         1.31 -1.152425 -0.836931 -1.176836 -0.823219 -1.194860\n",
       "82         1.32 -1.178322 -0.851540 -1.193814 -0.834676 -1.236467\n",
       "83         1.33 -1.204574 -0.866300 -1.210895 -0.846210 -1.279132\n",
       "84         1.34 -1.231182 -0.881212 -1.228076 -0.857821 -1.322861\n",
       "85         1.35 -1.258141 -0.896273 -1.245357 -0.869509 -1.367657\n",
       "86         1.36 -1.285451 -0.911485 -1.262736 -0.881273 -1.413524\n",
       "87         1.37 -1.313109 -0.926847 -1.280211 -0.893113 -1.460463\n",
       "88         1.38 -1.341111 -0.942357 -1.297782 -0.905029 -1.508475\n",
       "89         1.39 -1.369456 -0.958016 -1.315447 -0.917020 -1.557560\n",
       "90         1.40 -1.398139 -0.973823 -1.333203 -0.929085 -1.607713\n",
       "91         1.41 -1.427158 -0.989776 -1.351051 -0.941224 -1.658933\n",
       "92         1.42 -1.456510 -1.005877 -1.368988 -0.953437 -1.711213\n",
       "93         1.43 -1.486189 -1.022123 -1.387013 -0.965723 -1.764546\n",
       "94         1.44 -1.516193 -1.038514 -1.405124 -0.978081 -1.818924\n",
       "95         1.45 -1.546518 -1.055050 -1.423321 -0.990510 -1.874338\n",
       "96         1.46 -1.577158 -1.071728 -1.441600 -1.003011 -1.930775"
      ]
     },
     "execution_count": 16,
     "metadata": {},
     "output_type": "execute_result"
    }
   ],
   "source": [
    "temp_df.iloc[70:97,:]"
   ]
  },
  {
   "cell_type": "code",
   "execution_count": 17,
   "metadata": {},
   "outputs": [
    {
     "data": {
      "image/png": "[encoded data removed]",
      "text/plain": [
       "<Figure size 648x432 with 1 Axes>"
      ]
     },
     "metadata": {},
     "output_type": "display_data"
    }
   ],
   "source": [
    "plt.figure(figsize=(9,6))\n",
    "plt.plot(price_range, temp_df['PE_ALL'], color='grey')\n",
    "plt.plot(price_range, temp_df['PE_S0'], color='g')\n",
    "plt.plot(price_range, temp_df['PE_S1'], color='b')\n",
    "plt.plot(price_range, temp_df['PE_S2'], color='r')\n",
    "plt.plot(price_range, temp_df['PE_S3'], color='orange')\n",
    "plt.xlabel('Price')\n",
    "plt.ylabel('Elasticity')\n",
    "plt.title('Price Elasticity of Purchase Probablity')\n",
    "plt.legend(['All','Career-Focused','Standard','Well-off','Few Opportunities'])\n",
    "plt.show()"
   ]
  },
  {
   "cell_type": "markdown",
   "metadata": {},
   "source": [
    "***Price points till the elasticity is inelastic for all and by segments***\n",
    "\n",
    "1. All Customers = 1.25\n",
    "2. Career-Focused = 1.42\n",
    "3. Standard = 1.21\n",
    "4. Well-off = 1.46\n",
    "5. Few-Opportunites = 1.26\n",
    "\n",
    "*P.S - the figures are in dollars.*"
   ]
  },
  {
   "cell_type": "markdown",
   "metadata": {},
   "source": [
    "### Purchase Probability with Promotion Feature"
   ]
  },
  {
   "cell_type": "code",
   "execution_count": 18,
   "metadata": {},
   "outputs": [],
   "source": [
    "Y = df_pa['Incidence']"
   ]
  },
  {
   "cell_type": "code",
   "execution_count": 19,
   "metadata": {},
   "outputs": [],
   "source": [
    "X = pd.DataFrame()\n",
    "X['Mean_Price'] = (df_pa['Price_1'] +\n",
    "                   df_pa['Price_2'] +\n",
    "                   df_pa['Price_3'] +\n",
    "                   df_pa['Price_4'] +\n",
    "                   df_pa['Price_5']) / 5\n",
    "\n",
    "X['Mean_Promotion'] = (df_pa['Promotion_1'] +\n",
    "                   df_pa['Promotion_2'] +\n",
    "                   df_pa['Promotion_3'] +\n",
    "                   df_pa['Promotion_4'] +\n",
    "                   df_pa['Promotion_5']) / 5"
   ]
  },
  {
   "cell_type": "code",
   "execution_count": 42,
   "metadata": {},
   "outputs": [
    {
     "data": {
      "text/plain": [
       "array([[-1.49407954,  0.56149371]])"
      ]
     },
     "execution_count": 42,
     "metadata": {},
     "output_type": "execute_result"
    }
   ],
   "source": [
    "model_promotion = LogisticRegression(solver='sag')\n",
    "model_promotion.fit(X,Y)\n",
    "model_promotion.coef_"
   ]
  },
  {
   "cell_type": "markdown",
   "metadata": {},
   "source": [
    "### Price Elasticity with Promotion"
   ]
  },
  {
   "cell_type": "code",
   "execution_count": 37,
   "metadata": {},
   "outputs": [],
   "source": [
    "df_price_e_prom = pd.DataFrame(price_range)\n",
    "df_price_e_prom = df_price_e_prom.rename(columns = {0:'Price_Range'})\n",
    "\n",
    "df_price_e_prom['Promotion'] = 1\n",
    "\n",
    "#Purchase Probability with Promotion Model Prediction\n",
    "Y_prom = model_promotion.predict_proba(df_price_e_prom)\n",
    "\n",
    "promo = Y_prom[:,1]\n",
    "pe_prom = (model_promotion.coef_[:,0]*price_range)*(1-promo)\n",
    "\n",
    "# Update master data frame to include purchase probability elasticities without promotion.\n",
    "# We can now see the values with and without promotion and compare them for each price point in our price range.\n",
    "df_price_e['Promotion'] = pe_prom"
   ]
  },
  {
   "cell_type": "markdown",
   "metadata": {},
   "source": [
    "### Price Elasticity without Promotion"
   ]
  },
  {
   "cell_type": "code",
   "execution_count": 33,
   "metadata": {},
   "outputs": [],
   "source": [
    "df_price_e_no_prom = pd.DataFrame(price_range)\n",
    "df_price_e_no_prom = df_price_e_no_prom.rename(columns = {0: \"Price_Range\"})\n",
    "\n",
    "df_price_e_no_prom['Promotion'] = 0\n",
    "\n",
    "#Purchase Probability without Promotion Model Prediction\n",
    "Y_no_promo = model_promotion.predict_proba(df_price_e_no_prom)\n",
    "\n",
    "no_promo = Y_no_promo[:,1]\n",
    "pe_no_promo = model_promotion.coef_[:,0]*price_range*(1-no_promo)\n",
    "\n",
    "# Update master data frame to include purchase probability elasticities without promotion.\n",
    "# We can now see the values with and without promotion and compare them for each price point in our price range.\n",
    "df_price_e['No_Promotion'] = pe_no_promo"
   ]
  },
  {
   "cell_type": "code",
   "execution_count": 38,
   "metadata": {},
   "outputs": [
    {
     "data": {
      "image/png": "[encoded data removed]",
      "text/plain": [
       "<Figure size 648x432 with 1 Axes>"
      ]
     },
     "metadata": {},
     "output_type": "display_data"
    }
   ],
   "source": [
    "# Plot purchase elasticities with and without promotion side by side for comprarisson.\n",
    "plt.figure(figsize = (9, 6))\n",
    "plt.plot(price_range, pe_no_promo)\n",
    "plt.plot(price_range, pe_prom)\n",
    "plt.legend(['No Promotion','Promotion'])\n",
    "plt.xlabel('Price')\n",
    "plt.ylabel('Elasticity')\n",
    "plt.title('Price Elasticity of Purchase Probability with and without Promotion')\n",
    "plt.show()"
   ]
  },
  {
   "cell_type": "markdown",
   "metadata": {},
   "source": [
    "### Analysis\n",
    "1. *Customers are less price sensitive to price changes when there are promotion activities.*\n",
    "2. *It would be more beneficial to have a higher original price and constant promotion.*"
   ]
  }
 ],
 "metadata": {
  "kernelspec": {
   "display_name": "Python 3",
   "language": "python",
   "name": "python3"
  },
  "language_info": {
   "codemirror_mode": {
    "name": "ipython",
    "version": 3
   },
   "file_extension": ".py",
   "mimetype": "text/x-python",
   "name": "python",
   "nbconvert_exporter": "python",
   "pygments_lexer": "ipython3",
   "version": "3.8.5"
  }
 },
 "nbformat": 4,
 "nbformat_minor": 4
}
