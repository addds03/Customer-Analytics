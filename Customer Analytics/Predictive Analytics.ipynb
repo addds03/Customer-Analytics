{
 "cells": [
  {
   "cell_type": "markdown",
   "metadata": {},
   "source": [
    "## Library Imports"
   ]
  },
  {
   "cell_type": "code",
   "execution_count": 1,
   "metadata": {},
   "outputs": [],
   "source": [
    "import numpy as np\n",
    "import pandas as pd\n",
    "import scipy\n",
    "import pickle\n",
    "import matplotlib.pyplot as plt\n",
    "import seaborn as sns\n",
    "sns.set()\n",
    "\n",
    "from sklearn.linear_model import LogisticRegression\n",
    "from sklearn.preprocessing import StandardScaler\n",
    "from sklearn.decomposition import PCA\n",
    "from sklearn.cluster import KMeans"
   ]
  },
  {
   "cell_type": "code",
   "execution_count": 2,
   "metadata": {},
   "outputs": [],
   "source": [
    "df_purchase = pd.read_csv('purchase data.csv')"
   ]
  },
  {
   "cell_type": "markdown",
   "metadata": {},
   "source": [
    "## Data Segmentation\n",
    "\n",
    "### Import Segmentation model"
   ]
  },
  {
   "cell_type": "code",
   "execution_count": 3,
   "metadata": {},
   "outputs": [],
   "source": [
    "scaler = pickle.load(open('scaler.pickle','rb'))\n",
    "\n",
    "pca = pickle.load(open('pca.pickle','rb'))\n",
    "\n",
    "kmeans_pca = pickle.load(open('kmeans_pca.pickle','rb'))"
   ]
  },
  {
   "cell_type": "markdown",
   "metadata": {},
   "source": [
    "### Standardization"
   ]
  },
  {
   "cell_type": "code",
   "execution_count": 4,
   "metadata": {},
   "outputs": [],
   "source": [
    "features = df_purchase[['Sex', 'Marital status', 'Age', 'Education', 'Income','Occupation', 'Settlement size']]\n",
    "df_purchase_seg_std = scaler.transform(features)"
   ]
  },
  {
   "cell_type": "markdown",
   "metadata": {},
   "source": [
    "### PCA "
   ]
  },
  {
   "cell_type": "code",
   "execution_count": 5,
   "metadata": {},
   "outputs": [],
   "source": [
    "df_purchase_seg_pca = pca.transform(df_purchase_seg_std)"
   ]
  },
  {
   "cell_type": "markdown",
   "metadata": {},
   "source": [
    "### K-means PCA"
   ]
  },
  {
   "cell_type": "code",
   "execution_count": 6,
   "metadata": {},
   "outputs": [],
   "source": [
    "df_purchase_seg_kmeans_pca = kmeans_pca.predict(df_purchase_seg_pca)\n",
    "\n",
    "df_purchase_predictors = df_purchase.copy()\n",
    "\n",
    "df_purchase_predictors['Segment'] = df_purchase_seg_kmeans_pca"
   ]
  },
  {
   "cell_type": "code",
   "execution_count": 7,
   "metadata": {},
   "outputs": [],
   "source": [
    "segment_dummies = pd.get_dummies(df_purchase_seg_kmeans_pca,\n",
    "                                prefix = 'Segement',\n",
    "                                prefix_sep='_')\n",
    "df_purchase_predictors = pd.concat([df_purchase_predictors,\n",
    "                                  segment_dummies], axis=1)\n",
    "\n",
    "df_pa = df_purchase_predictors"
   ]
  },
  {
   "cell_type": "markdown",
   "metadata": {},
   "source": [
    "## Purchase Probability Model"
   ]
  },
  {
   "cell_type": "code",
   "execution_count": 8,
   "metadata": {},
   "outputs": [],
   "source": [
    "Y = df_pa['Incidence']"
   ]
  },
  {
   "cell_type": "code",
   "execution_count": 9,
   "metadata": {},
   "outputs": [],
   "source": [
    "X = pd.DataFrame()\n",
    "X['Mean_Price'] = (df_pa['Price_1'] +\n",
    "                   df_pa['Price_2'] +\n",
    "                   df_pa['Price_3'] +\n",
    "                   df_pa['Price_4'] +\n",
    "                   df_pa['Price_5']) / 5"
   ]
  },
  {
   "cell_type": "code",
   "execution_count": 10,
   "metadata": {},
   "outputs": [
    {
     "data": {
      "text/plain": [
       "LogisticRegression(solver='sag')"
      ]
     },
     "execution_count": 10,
     "metadata": {},
     "output_type": "execute_result"
    }
   ],
   "source": [
    "model_purchase = LogisticRegression(solver='sag')\n",
    "model_purchase.fit(X,Y)"
   ]
  },
  {
   "cell_type": "code",
   "execution_count": 47,
   "metadata": {},
   "outputs": [
    {
     "data": {
      "text/plain": [
       "array([[-2.34919758]])"
      ]
     },
     "execution_count": 47,
     "metadata": {},
     "output_type": "execute_result"
    }
   ],
   "source": [
    "model_purchase.coef_"
   ]
  },
  {
   "cell_type": "markdown",
   "metadata": {},
   "source": [
    "### Price Elasticity of Purchase Probability"
   ]
  },
  {
   "cell_type": "code",
   "execution_count": 12,
   "metadata": {},
   "outputs": [
    {
     "data": {
      "text/html": [
       "<div>\n",
       "<style scoped>\n",
       "    .dataframe tbody tr th:only-of-type {\n",
       "        vertical-align: middle;\n",
       "    }\n",
       "\n",
       "    .dataframe tbody tr th {\n",
       "        vertical-align: top;\n",
       "    }\n",
       "\n",
       "    .dataframe thead th {\n",
       "        text-align: right;\n",
       "    }\n",
       "</style>\n",
       "<table border=\"1\" class=\"dataframe\">\n",
       "  <thead>\n",
       "    <tr style=\"text-align: right;\">\n",
       "      <th></th>\n",
       "      <th>Price_1</th>\n",
       "      <th>Price_2</th>\n",
       "      <th>Price_3</th>\n",
       "      <th>Price_4</th>\n",
       "      <th>Price_5</th>\n",
       "    </tr>\n",
       "  </thead>\n",
       "  <tbody>\n",
       "    <tr>\n",
       "      <th>count</th>\n",
       "      <td>58693.000000</td>\n",
       "      <td>58693.000000</td>\n",
       "      <td>58693.000000</td>\n",
       "      <td>58693.000000</td>\n",
       "      <td>58693.000000</td>\n",
       "    </tr>\n",
       "    <tr>\n",
       "      <th>mean</th>\n",
       "      <td>1.392074</td>\n",
       "      <td>1.780999</td>\n",
       "      <td>2.006789</td>\n",
       "      <td>2.159945</td>\n",
       "      <td>2.654798</td>\n",
       "    </tr>\n",
       "    <tr>\n",
       "      <th>std</th>\n",
       "      <td>0.091139</td>\n",
       "      <td>0.170868</td>\n",
       "      <td>0.046867</td>\n",
       "      <td>0.089825</td>\n",
       "      <td>0.098272</td>\n",
       "    </tr>\n",
       "    <tr>\n",
       "      <th>min</th>\n",
       "      <td>1.100000</td>\n",
       "      <td>1.260000</td>\n",
       "      <td>1.870000</td>\n",
       "      <td>1.760000</td>\n",
       "      <td>2.110000</td>\n",
       "    </tr>\n",
       "    <tr>\n",
       "      <th>25%</th>\n",
       "      <td>1.340000</td>\n",
       "      <td>1.580000</td>\n",
       "      <td>1.970000</td>\n",
       "      <td>2.120000</td>\n",
       "      <td>2.630000</td>\n",
       "    </tr>\n",
       "    <tr>\n",
       "      <th>50%</th>\n",
       "      <td>1.390000</td>\n",
       "      <td>1.880000</td>\n",
       "      <td>2.010000</td>\n",
       "      <td>2.170000</td>\n",
       "      <td>2.670000</td>\n",
       "    </tr>\n",
       "    <tr>\n",
       "      <th>75%</th>\n",
       "      <td>1.470000</td>\n",
       "      <td>1.890000</td>\n",
       "      <td>2.060000</td>\n",
       "      <td>2.240000</td>\n",
       "      <td>2.700000</td>\n",
       "    </tr>\n",
       "    <tr>\n",
       "      <th>max</th>\n",
       "      <td>1.590000</td>\n",
       "      <td>1.900000</td>\n",
       "      <td>2.140000</td>\n",
       "      <td>2.260000</td>\n",
       "      <td>2.800000</td>\n",
       "    </tr>\n",
       "  </tbody>\n",
       "</table>\n",
       "</div>"
      ],
      "text/plain": [
       "            Price_1       Price_2       Price_3       Price_4       Price_5\n",
       "count  58693.000000  58693.000000  58693.000000  58693.000000  58693.000000\n",
       "mean       1.392074      1.780999      2.006789      2.159945      2.654798\n",
       "std        0.091139      0.170868      0.046867      0.089825      0.098272\n",
       "min        1.100000      1.260000      1.870000      1.760000      2.110000\n",
       "25%        1.340000      1.580000      1.970000      2.120000      2.630000\n",
       "50%        1.390000      1.880000      2.010000      2.170000      2.670000\n",
       "75%        1.470000      1.890000      2.060000      2.240000      2.700000\n",
       "max        1.590000      1.900000      2.140000      2.260000      2.800000"
      ]
     },
     "execution_count": 12,
     "metadata": {},
     "output_type": "execute_result"
    }
   ],
   "source": [
    "df_pa[['Price_1','Price_2','Price_3','Price_4','Price_5']].describe()"
   ]
  },
  {
   "cell_type": "code",
   "execution_count": 24,
   "metadata": {},
   "outputs": [],
   "source": [
    "price_range = np.arange(0.5,3.5,0.01)\n",
    "\n",
    "df_price_range = pd.DataFrame(price_range)"
   ]
  },
  {
   "cell_type": "code",
   "execution_count": 14,
   "metadata": {},
   "outputs": [],
   "source": [
    "Y_pr = model_purchase.predict_proba(df_price_range)"
   ]
  },
  {
   "cell_type": "code",
   "execution_count": 21,
   "metadata": {},
   "outputs": [],
   "source": [
    "purchase_pr = Y_pr[:][:,1]"
   ]
  },
  {
   "cell_type": "markdown",
   "metadata": {},
   "source": [
    "$Elasticity = {\\frac {\\frac{\\delta Pr(purchase)}{Pr(purchase)}} {\\frac{\\delta Price}{Price}}} $\n",
    "\n",
    "\n",
    "$ Elasticity = {\\beta} * price * (1- Pr(purchase) $"
   ]
  },
  {
   "cell_type": "code",
   "execution_count": 25,
   "metadata": {},
   "outputs": [],
   "source": [
    "pe = model_purchase.coef_[:,0] * price_range * (1 - purchase_pr)"
   ]
  },
  {
   "cell_type": "code",
   "execution_count": 26,
   "metadata": {},
   "outputs": [],
   "source": [
    "df_price_e = pd.DataFrame(price_range)\n",
    "df_price_e = df_price_e.rename(columns = {0:'Price_point'})\n",
    "df_price_e['Mean_e'] = pe"
   ]
  },
  {
   "cell_type": "code",
   "execution_count": 28,
   "metadata": {},
   "outputs": [
    {
     "data": {
      "image/png": "[encoded data removed]",
      "text/plain": [
       "<Figure size 648x432 with 1 Axes>"
      ]
     },
     "metadata": {},
     "output_type": "display_data"
    }
   ],
   "source": [
    "plt.figure(figsize=(9,6))\n",
    "plt.plot(price_range, pe, color='grey')\n",
    "plt.xlabel('Price')\n",
    "plt.ylabel('Elasticity')\n",
    "plt.title('Price Elasticity of Purchase Probablity')\n",
    "plt.show()"
   ]
  },
  {
   "cell_type": "markdown",
   "metadata": {},
   "source": [
    "***As obvious, increase in price tend to lower the elasticity, but upto 1.1 we see a gradual decrease. <br>\n",
    "Increase in price from 0-1.25 --> gradual drop in purchase probability <br>\n",
    "Increse in price above 1.25 --> drasticaly reduce the purchase probability***"
   ]
  },
  {
   "cell_type": "markdown",
   "metadata": {},
   "source": [
    "### Purchase Probalities by Segment\n",
    "\n",
    "####  0. Career-Focused"
   ]
  },
  {
   "cell_type": "code",
   "execution_count": null,
   "metadata": {},
   "outputs": [],
   "source": [
    "def plot_elasticity():\n",
    "    pass"
   ]
  },
  {
   "cell_type": "code",
   "execution_count": 57,
   "metadata": {},
   "outputs": [],
   "source": [
    "df_pa_s0 = df_pa[df_pa['Segment'] == 0]\n",
    "Y = df_pa_s0['Incidence']"
   ]
  },
  {
   "cell_type": "code",
   "execution_count": 58,
   "metadata": {},
   "outputs": [],
   "source": [
    "X = pd.DataFrame()\n",
    "X['Mean_Price'] = (df_pa_s1['Price_1'] +\n",
    "                   df_pa_s1['Price_2'] +\n",
    "                   df_pa_s1['Price_3'] +\n",
    "                   df_pa_s1['Price_4'] +\n",
    "                   df_pa_s1['Price_5']) / 5"
   ]
  },
  {
   "cell_type": "code",
   "execution_count": 59,
   "metadata": {},
   "outputs": [
    {
     "data": {
      "text/plain": [
       "array([[-1.6362568]])"
      ]
     },
     "execution_count": 59,
     "metadata": {},
     "output_type": "execute_result"
    }
   ],
   "source": [
    "model_purchase_s0 = LogisticRegression(solver='sag')\n",
    "\n",
    "model_purchase_s0.fit(X,Y)\n",
    "\n",
    "model_purchase_s0.coef_"
   ]
  },
  {
   "cell_type": "code",
   "execution_count": 60,
   "metadata": {},
   "outputs": [],
   "source": [
    "Y_pr_s0 = model_purchase_s0.predict_proba(df_price_range)\n",
    "\n",
    "purchase_pr_s0 = Y_pr_s0[:][:,1]"
   ]
  },
  {
   "cell_type": "code",
   "execution_count": 61,
   "metadata": {},
   "outputs": [],
   "source": [
    "pe_s0 = model_purchase_s0.coef_[:,0] * price_range * (1 - purchase_pr_s0)"
   ]
  },
  {
   "cell_type": "code",
   "execution_count": 62,
   "metadata": {},
   "outputs": [
    {
     "data": {
      "text/html": [
       "<div>\n",
       "<style scoped>\n",
       "    .dataframe tbody tr th:only-of-type {\n",
       "        vertical-align: middle;\n",
       "    }\n",
       "\n",
       "    .dataframe tbody tr th {\n",
       "        vertical-align: top;\n",
       "    }\n",
       "\n",
       "    .dataframe thead th {\n",
       "        text-align: right;\n",
       "    }\n",
       "</style>\n",
       "<table border=\"1\" class=\"dataframe\">\n",
       "  <thead>\n",
       "    <tr style=\"text-align: right;\">\n",
       "      <th></th>\n",
       "      <th>Price_point</th>\n",
       "      <th>Mean_e</th>\n",
       "      <th>PE_S1</th>\n",
       "      <th>PE_S0</th>\n",
       "    </tr>\n",
       "  </thead>\n",
       "  <tbody>\n",
       "    <tr>\n",
       "      <th>0</th>\n",
       "      <td>0.50</td>\n",
       "      <td>-0.096434</td>\n",
       "      <td>-0.121688</td>\n",
       "      <td>-0.119534</td>\n",
       "    </tr>\n",
       "    <tr>\n",
       "      <th>1</th>\n",
       "      <td>0.51</td>\n",
       "      <td>-0.100505</td>\n",
       "      <td>-0.125830</td>\n",
       "      <td>-0.123638</td>\n",
       "    </tr>\n",
       "    <tr>\n",
       "      <th>2</th>\n",
       "      <td>0.52</td>\n",
       "      <td>-0.104702</td>\n",
       "      <td>-0.130059</td>\n",
       "      <td>-0.127830</td>\n",
       "    </tr>\n",
       "    <tr>\n",
       "      <th>3</th>\n",
       "      <td>0.53</td>\n",
       "      <td>-0.109030</td>\n",
       "      <td>-0.134376</td>\n",
       "      <td>-0.132110</td>\n",
       "    </tr>\n",
       "    <tr>\n",
       "      <th>4</th>\n",
       "      <td>0.54</td>\n",
       "      <td>-0.113492</td>\n",
       "      <td>-0.138782</td>\n",
       "      <td>-0.136480</td>\n",
       "    </tr>\n",
       "    <tr>\n",
       "      <th>...</th>\n",
       "      <td>...</td>\n",
       "      <td>...</td>\n",
       "      <td>...</td>\n",
       "      <td>...</td>\n",
       "    </tr>\n",
       "    <tr>\n",
       "      <th>295</th>\n",
       "      <td>3.45</td>\n",
       "      <td>-8.017081</td>\n",
       "      <td>-5.305620</td>\n",
       "      <td>-5.392616</td>\n",
       "    </tr>\n",
       "    <tr>\n",
       "      <th>296</th>\n",
       "      <td>3.46</td>\n",
       "      <td>-8.042339</td>\n",
       "      <td>-5.324927</td>\n",
       "      <td>-5.412175</td>\n",
       "    </tr>\n",
       "    <tr>\n",
       "      <th>297</th>\n",
       "      <td>3.47</td>\n",
       "      <td>-8.067562</td>\n",
       "      <td>-5.344200</td>\n",
       "      <td>-5.431698</td>\n",
       "    </tr>\n",
       "    <tr>\n",
       "      <th>298</th>\n",
       "      <td>3.48</td>\n",
       "      <td>-8.092751</td>\n",
       "      <td>-5.363439</td>\n",
       "      <td>-5.451186</td>\n",
       "    </tr>\n",
       "    <tr>\n",
       "      <th>299</th>\n",
       "      <td>3.49</td>\n",
       "      <td>-8.117907</td>\n",
       "      <td>-5.382643</td>\n",
       "      <td>-5.470639</td>\n",
       "    </tr>\n",
       "  </tbody>\n",
       "</table>\n",
       "<p>300 rows × 4 columns</p>\n",
       "</div>"
      ],
      "text/plain": [
       "     Price_point    Mean_e     PE_S1     PE_S0\n",
       "0           0.50 -0.096434 -0.121688 -0.119534\n",
       "1           0.51 -0.100505 -0.125830 -0.123638\n",
       "2           0.52 -0.104702 -0.130059 -0.127830\n",
       "3           0.53 -0.109030 -0.134376 -0.132110\n",
       "4           0.54 -0.113492 -0.138782 -0.136480\n",
       "..           ...       ...       ...       ...\n",
       "295         3.45 -8.017081 -5.305620 -5.392616\n",
       "296         3.46 -8.042339 -5.324927 -5.412175\n",
       "297         3.47 -8.067562 -5.344200 -5.431698\n",
       "298         3.48 -8.092751 -5.363439 -5.451186\n",
       "299         3.49 -8.117907 -5.382643 -5.470639\n",
       "\n",
       "[300 rows x 4 columns]"
      ]
     },
     "execution_count": 62,
     "metadata": {},
     "output_type": "execute_result"
    }
   ],
   "source": [
    "df_price_e['PE_S0'] = pe_s0\n",
    "\n",
    "df_price_e"
   ]
  },
  {
   "cell_type": "code",
   "execution_count": 67,
   "metadata": {},
   "outputs": [
    {
     "data": {
      "image/png": "[encoded data removed]",
      "text/plain": [
       "<Figure size 648x432 with 1 Axes>"
      ]
     },
     "metadata": {},
     "output_type": "display_data"
    }
   ],
   "source": [
    "plt.figure(figsize=(9,6))\n",
    "plt.plot(price_range, pe, color='grey')\n",
    "plt.plot(price_range, pe_s0, color='g')\n",
    "plt.plot(price_range, pe_s0, color='b')\n",
    "plt.plot(price_range, pe_s0, color='r')\n",
    "plt.xlabel('Price')\n",
    "plt.ylabel('Elasticity')\n",
    "plt.title('Price Elasticity of Purchase Probablity')\n",
    "plt.legend(['All','Career-Focused','Standard','Well-off','Few Opportunities'])\n",
    "plt.show()"
   ]
  },
  {
   "cell_type": "code",
   "execution_count": null,
   "metadata": {},
   "outputs": [],
   "source": []
  }
 ],
 "metadata": {
  "kernelspec": {
   "display_name": "Python 3",
   "language": "python",
   "name": "python3"
  },
  "language_info": {
   "codemirror_mode": {
    "name": "ipython",
    "version": 3
   },
   "file_extension": ".py",
   "mimetype": "text/x-python",
   "name": "python",
   "nbconvert_exporter": "python",
   "pygments_lexer": "ipython3",
   "version": "3.8.5"
  }
 },
 "nbformat": 4,
 "nbformat_minor": 4
}
