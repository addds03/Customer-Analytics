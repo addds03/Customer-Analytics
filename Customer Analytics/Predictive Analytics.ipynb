{
 "cells": [
  {
   "cell_type": "markdown",
   "metadata": {},
   "source": [
    "## Library Imports"
   ]
  },
  {
   "cell_type": "code",
   "execution_count": 1,
   "metadata": {},
   "outputs": [],
   "source": [
    "import numpy as np\n",
    "import pandas as pd\n",
    "import scipy\n",
    "import pickle\n",
    "import matplotlib.pyplot as plt\n",
    "import seaborn as sns\n",
    "sns.set()\n",
    "\n",
    "from sklearn.linear_model import LogisticRegression\n",
    "from sklearn.preprocessing import StandardScaler\n",
    "from sklearn.decomposition import PCA\n",
    "from sklearn.cluster import KMeans"
   ]
  },
  {
   "cell_type": "code",
   "execution_count": 2,
   "metadata": {},
   "outputs": [],
   "source": [
    "df_purchase = pd.read_csv('purchase data.csv')"
   ]
  },
  {
   "cell_type": "markdown",
   "metadata": {},
   "source": [
    "## Data Segmentation\n",
    "\n",
    "### Import Segmentation model"
   ]
  },
  {
   "cell_type": "code",
   "execution_count": 3,
   "metadata": {},
   "outputs": [],
   "source": [
    "scaler = pickle.load(open('scaler.pickle','rb'))\n",
    "\n",
    "pca = pickle.load(open('pca.pickle','rb'))\n",
    "\n",
    "kmeans_pca = pickle.load(open('kmeans_pca.pickle','rb'))"
   ]
  },
  {
   "cell_type": "markdown",
   "metadata": {},
   "source": [
    "### Standardization"
   ]
  },
  {
   "cell_type": "code",
   "execution_count": 4,
   "metadata": {},
   "outputs": [],
   "source": [
    "features = df_purchase[['Sex', 'Marital status', 'Age', 'Education', 'Income','Occupation', 'Settlement size']]\n",
    "df_purchase_seg_std = scaler.transform(features)"
   ]
  },
  {
   "cell_type": "markdown",
   "metadata": {},
   "source": [
    "### PCA "
   ]
  },
  {
   "cell_type": "code",
   "execution_count": 5,
   "metadata": {},
   "outputs": [],
   "source": [
    "df_purchase_seg_pca = pca.transform(df_purchase_seg_std)"
   ]
  },
  {
   "cell_type": "markdown",
   "metadata": {},
   "source": [
    "### K-means PCA"
   ]
  },
  {
   "cell_type": "code",
   "execution_count": 6,
   "metadata": {},
   "outputs": [],
   "source": [
    "df_purchase_seg_kmeans_pca = kmeans_pca.predict(df_purchase_seg_pca)\n",
    "\n",
    "df_purchase_predictors = df_purchase.copy()\n",
    "\n",
    "df_purchase_predictors['Segment'] = df_purchase_seg_kmeans_pca"
   ]
  },
  {
   "cell_type": "code",
   "execution_count": 7,
   "metadata": {},
   "outputs": [],
   "source": [
    "segment_dummies = pd.get_dummies(df_purchase_seg_kmeans_pca,\n",
    "                                prefix = 'Segement',\n",
    "                                prefix_sep='_')\n",
    "df_purchase_predictors = pd.concat([df_purchase_predictors,\n",
    "                                  segment_dummies], axis=1)\n",
    "\n",
    "df_pa = df_purchase_predictors"
   ]
  },
  {
   "cell_type": "markdown",
   "metadata": {},
   "source": [
    "## Purchase Probability Model"
   ]
  },
  {
   "cell_type": "code",
   "execution_count": 8,
   "metadata": {},
   "outputs": [],
   "source": [
    "Y = df_pa['Incidence']"
   ]
  },
  {
   "cell_type": "code",
   "execution_count": 9,
   "metadata": {},
   "outputs": [],
   "source": [
    "X = pd.DataFrame()\n",
    "X['Mean_Price'] = (df_pa['Price_1'] +\n",
    "                   df_pa['Price_2'] +\n",
    "                   df_pa['Price_3'] +\n",
    "                   df_pa['Price_4'] +\n",
    "                   df_pa['Price_5']) / 5"
   ]
  },
  {
   "cell_type": "code",
   "execution_count": 10,
   "metadata": {},
   "outputs": [
    {
     "data": {
      "text/plain": [
       "LogisticRegression(solver='sag')"
      ]
     },
     "execution_count": 10,
     "metadata": {},
     "output_type": "execute_result"
    }
   ],
   "source": [
    "model_purchase = LogisticRegression(solver='sag')\n",
    "model_purchase.fit(X,Y)"
   ]
  },
  {
   "cell_type": "code",
   "execution_count": 11,
   "metadata": {},
   "outputs": [
    {
     "data": {
      "text/plain": [
       "array([[-2.34827839]])"
      ]
     },
     "execution_count": 11,
     "metadata": {},
     "output_type": "execute_result"
    }
   ],
   "source": [
    "model_purchase.coef_"
   ]
  },
  {
   "cell_type": "markdown",
   "metadata": {},
   "source": [
    "### Price Elasticity of Purchase Probability"
   ]
  },
  {
   "cell_type": "code",
   "execution_count": 12,
   "metadata": {},
   "outputs": [
    {
     "data": {
      "text/html": [
       "<div>\n",
       "<style scoped>\n",
       "    .dataframe tbody tr th:only-of-type {\n",
       "        vertical-align: middle;\n",
       "    }\n",
       "\n",
       "    .dataframe tbody tr th {\n",
       "        vertical-align: top;\n",
       "    }\n",
       "\n",
       "    .dataframe thead th {\n",
       "        text-align: right;\n",
       "    }\n",
       "</style>\n",
       "<table border=\"1\" class=\"dataframe\">\n",
       "  <thead>\n",
       "    <tr style=\"text-align: right;\">\n",
       "      <th></th>\n",
       "      <th>Price_1</th>\n",
       "      <th>Price_2</th>\n",
       "      <th>Price_3</th>\n",
       "      <th>Price_4</th>\n",
       "      <th>Price_5</th>\n",
       "    </tr>\n",
       "  </thead>\n",
       "  <tbody>\n",
       "    <tr>\n",
       "      <th>count</th>\n",
       "      <td>58693.000000</td>\n",
       "      <td>58693.000000</td>\n",
       "      <td>58693.000000</td>\n",
       "      <td>58693.000000</td>\n",
       "      <td>58693.000000</td>\n",
       "    </tr>\n",
       "    <tr>\n",
       "      <th>mean</th>\n",
       "      <td>1.392074</td>\n",
       "      <td>1.780999</td>\n",
       "      <td>2.006789</td>\n",
       "      <td>2.159945</td>\n",
       "      <td>2.654798</td>\n",
       "    </tr>\n",
       "    <tr>\n",
       "      <th>std</th>\n",
       "      <td>0.091139</td>\n",
       "      <td>0.170868</td>\n",
       "      <td>0.046867</td>\n",
       "      <td>0.089825</td>\n",
       "      <td>0.098272</td>\n",
       "    </tr>\n",
       "    <tr>\n",
       "      <th>min</th>\n",
       "      <td>1.100000</td>\n",
       "      <td>1.260000</td>\n",
       "      <td>1.870000</td>\n",
       "      <td>1.760000</td>\n",
       "      <td>2.110000</td>\n",
       "    </tr>\n",
       "    <tr>\n",
       "      <th>25%</th>\n",
       "      <td>1.340000</td>\n",
       "      <td>1.580000</td>\n",
       "      <td>1.970000</td>\n",
       "      <td>2.120000</td>\n",
       "      <td>2.630000</td>\n",
       "    </tr>\n",
       "    <tr>\n",
       "      <th>50%</th>\n",
       "      <td>1.390000</td>\n",
       "      <td>1.880000</td>\n",
       "      <td>2.010000</td>\n",
       "      <td>2.170000</td>\n",
       "      <td>2.670000</td>\n",
       "    </tr>\n",
       "    <tr>\n",
       "      <th>75%</th>\n",
       "      <td>1.470000</td>\n",
       "      <td>1.890000</td>\n",
       "      <td>2.060000</td>\n",
       "      <td>2.240000</td>\n",
       "      <td>2.700000</td>\n",
       "    </tr>\n",
       "    <tr>\n",
       "      <th>max</th>\n",
       "      <td>1.590000</td>\n",
       "      <td>1.900000</td>\n",
       "      <td>2.140000</td>\n",
       "      <td>2.260000</td>\n",
       "      <td>2.800000</td>\n",
       "    </tr>\n",
       "  </tbody>\n",
       "</table>\n",
       "</div>"
      ],
      "text/plain": [
       "            Price_1       Price_2       Price_3       Price_4       Price_5\n",
       "count  58693.000000  58693.000000  58693.000000  58693.000000  58693.000000\n",
       "mean       1.392074      1.780999      2.006789      2.159945      2.654798\n",
       "std        0.091139      0.170868      0.046867      0.089825      0.098272\n",
       "min        1.100000      1.260000      1.870000      1.760000      2.110000\n",
       "25%        1.340000      1.580000      1.970000      2.120000      2.630000\n",
       "50%        1.390000      1.880000      2.010000      2.170000      2.670000\n",
       "75%        1.470000      1.890000      2.060000      2.240000      2.700000\n",
       "max        1.590000      1.900000      2.140000      2.260000      2.800000"
      ]
     },
     "execution_count": 12,
     "metadata": {},
     "output_type": "execute_result"
    }
   ],
   "source": [
    "df_pa[['Price_1','Price_2','Price_3','Price_4','Price_5']].describe()"
   ]
  },
  {
   "cell_type": "code",
   "execution_count": 13,
   "metadata": {},
   "outputs": [],
   "source": [
    "price_range = np.arange(0.5,3.5,0.01)\n",
    "\n",
    "df_price_range = pd.DataFrame(price_range)"
   ]
  },
  {
   "cell_type": "markdown",
   "metadata": {},
   "source": [
    "$Elasticity = {\\frac {\\frac{\\delta Pr(purchase)}{Pr(purchase)}} {\\frac{\\delta Price}{Price}}} $\n",
    "\n",
    "\n",
    "$ Elasticity = {\\beta} * price * (1- Pr(purchase) $"
   ]
  },
  {
   "cell_type": "code",
   "execution_count": 14,
   "metadata": {},
   "outputs": [],
   "source": [
    "df_price_e = pd.DataFrame(price_range)\n",
    "df_price_e = df_price_e.rename(columns = {0:'Price_point'})"
   ]
  },
  {
   "cell_type": "markdown",
   "metadata": {},
   "source": [
    "### Purchase Probalities by Segment"
   ]
  },
  {
   "cell_type": "code",
   "execution_count": 15,
   "metadata": {},
   "outputs": [
    {
     "name": "stdout",
     "output_type": "stream",
     "text": [
      "\n",
      "\n",
      "\n",
      "\n",
      "\n"
     ]
    }
   ],
   "source": [
    "def plot_elasticity(df, price_range, df_price_range, df_price_e):\n",
    "    \n",
    "    col_name = ''\n",
    "    for i in range(-1,4):\n",
    "        if i != -1:\n",
    "            temp = df[df['Segment'] == i]\n",
    "            col_name = 'PE_S'+str(i)\n",
    "        else:\n",
    "            temp = df\n",
    "            col_name = 'PE_ALL'\n",
    "\n",
    "        Y = temp['Incidence']\n",
    "\n",
    "        X = pd.DataFrame()\n",
    "        X['Mean_Price'] = (temp['Price_1'] +\n",
    "                           temp['Price_2'] +\n",
    "                           temp['Price_3'] +\n",
    "                           temp['Price_4'] +\n",
    "                           temp['Price_5']) / 5\n",
    "\n",
    "        model_purchase = LogisticRegression(solver='sag')\n",
    "        model_purchase.fit(X,Y)\n",
    "\n",
    "        print()\n",
    "        # need to pass price range df\n",
    "        Y_pr = model_purchase.predict_proba(df_price_range)\n",
    "        purchase_pr = Y_pr[:][:,1]\n",
    "\n",
    "        pe = model_purchase.coef_[:,0] * price_range * (1 - purchase_pr)\n",
    "\n",
    "        df_price_e[col_name] = pe\n",
    "\n",
    "    return df_price_e\n",
    "\n",
    "temp_df = plot_elasticity(df_pa, price_range, df_price_range, df_price_e)"
   ]
  },
  {
   "cell_type": "code",
   "execution_count": 27,
   "metadata": {},
   "outputs": [
    {
     "data": {
      "text/html": [
       "<div>\n",
       "<style scoped>\n",
       "    .dataframe tbody tr th:only-of-type {\n",
       "        vertical-align: middle;\n",
       "    }\n",
       "\n",
       "    .dataframe tbody tr th {\n",
       "        vertical-align: top;\n",
       "    }\n",
       "\n",
       "    .dataframe thead th {\n",
       "        text-align: right;\n",
       "    }\n",
       "</style>\n",
       "<table border=\"1\" class=\"dataframe\">\n",
       "  <thead>\n",
       "    <tr style=\"text-align: right;\">\n",
       "      <th></th>\n",
       "      <th>Price_point</th>\n",
       "      <th>PE_ALL</th>\n",
       "      <th>PE_S0</th>\n",
       "      <th>PE_S1</th>\n",
       "      <th>PE_S2</th>\n",
       "      <th>PE_S3</th>\n",
       "    </tr>\n",
       "  </thead>\n",
       "  <tbody>\n",
       "    <tr>\n",
       "      <th>70</th>\n",
       "      <td>1.20</td>\n",
       "      <td>-0.891875</td>\n",
       "      <td>-0.685605</td>\n",
       "      <td>-0.997127</td>\n",
       "      <td>-0.701387</td>\n",
       "      <td>-0.806639</td>\n",
       "    </tr>\n",
       "    <tr>\n",
       "      <th>71</th>\n",
       "      <td>1.21</td>\n",
       "      <td>-0.913805</td>\n",
       "      <td>-0.698536</td>\n",
       "      <td>-1.012897</td>\n",
       "      <td>-0.711912</td>\n",
       "      <td>-0.837352</td>\n",
       "    </tr>\n",
       "    <tr>\n",
       "      <th>72</th>\n",
       "      <td>1.22</td>\n",
       "      <td>-0.936098</td>\n",
       "      <td>-0.711619</td>\n",
       "      <td>-1.028783</td>\n",
       "      <td>-0.722517</td>\n",
       "      <td>-0.869000</td>\n",
       "    </tr>\n",
       "    <tr>\n",
       "      <th>73</th>\n",
       "      <td>1.23</td>\n",
       "      <td>-0.958753</td>\n",
       "      <td>-0.724855</td>\n",
       "      <td>-1.044783</td>\n",
       "      <td>-0.733203</td>\n",
       "      <td>-0.901599</td>\n",
       "    </tr>\n",
       "    <tr>\n",
       "      <th>74</th>\n",
       "      <td>1.24</td>\n",
       "      <td>-0.981772</td>\n",
       "      <td>-0.738243</td>\n",
       "      <td>-1.060897</td>\n",
       "      <td>-0.743968</td>\n",
       "      <td>-0.935163</td>\n",
       "    </tr>\n",
       "    <tr>\n",
       "      <th>75</th>\n",
       "      <td>1.25</td>\n",
       "      <td>-1.005154</td>\n",
       "      <td>-0.751785</td>\n",
       "      <td>-1.077123</td>\n",
       "      <td>-0.754814</td>\n",
       "      <td>-0.969707</td>\n",
       "    </tr>\n",
       "    <tr>\n",
       "      <th>76</th>\n",
       "      <td>1.26</td>\n",
       "      <td>-1.028900</td>\n",
       "      <td>-0.765479</td>\n",
       "      <td>-1.093460</td>\n",
       "      <td>-0.765738</td>\n",
       "      <td>-1.005242</td>\n",
       "    </tr>\n",
       "    <tr>\n",
       "      <th>77</th>\n",
       "      <td>1.27</td>\n",
       "      <td>-1.053008</td>\n",
       "      <td>-0.779327</td>\n",
       "      <td>-1.109908</td>\n",
       "      <td>-0.776742</td>\n",
       "      <td>-1.041782</td>\n",
       "    </tr>\n",
       "    <tr>\n",
       "      <th>78</th>\n",
       "      <td>1.28</td>\n",
       "      <td>-1.077479</td>\n",
       "      <td>-0.793327</td>\n",
       "      <td>-1.126463</td>\n",
       "      <td>-0.787825</td>\n",
       "      <td>-1.079338</td>\n",
       "    </tr>\n",
       "    <tr>\n",
       "      <th>79</th>\n",
       "      <td>1.29</td>\n",
       "      <td>-1.102311</td>\n",
       "      <td>-0.807479</td>\n",
       "      <td>-1.143127</td>\n",
       "      <td>-0.798986</td>\n",
       "      <td>-1.117921</td>\n",
       "    </tr>\n",
       "    <tr>\n",
       "      <th>80</th>\n",
       "      <td>1.30</td>\n",
       "      <td>-1.127504</td>\n",
       "      <td>-0.821784</td>\n",
       "      <td>-1.159896</td>\n",
       "      <td>-0.810224</td>\n",
       "      <td>-1.157541</td>\n",
       "    </tr>\n",
       "    <tr>\n",
       "      <th>81</th>\n",
       "      <td>1.31</td>\n",
       "      <td>-1.153057</td>\n",
       "      <td>-0.836241</td>\n",
       "      <td>-1.176770</td>\n",
       "      <td>-0.821541</td>\n",
       "      <td>-1.198206</td>\n",
       "    </tr>\n",
       "    <tr>\n",
       "      <th>82</th>\n",
       "      <td>1.32</td>\n",
       "      <td>-1.178967</td>\n",
       "      <td>-0.850849</td>\n",
       "      <td>-1.193748</td>\n",
       "      <td>-0.832934</td>\n",
       "      <td>-1.239924</td>\n",
       "    </tr>\n",
       "    <tr>\n",
       "      <th>83</th>\n",
       "      <td>1.33</td>\n",
       "      <td>-1.205234</td>\n",
       "      <td>-0.865609</td>\n",
       "      <td>-1.210828</td>\n",
       "      <td>-0.844405</td>\n",
       "      <td>-1.282701</td>\n",
       "    </tr>\n",
       "    <tr>\n",
       "      <th>84</th>\n",
       "      <td>1.34</td>\n",
       "      <td>-1.231855</td>\n",
       "      <td>-0.880520</td>\n",
       "      <td>-1.228009</td>\n",
       "      <td>-0.855952</td>\n",
       "      <td>-1.326543</td>\n",
       "    </tr>\n",
       "    <tr>\n",
       "      <th>85</th>\n",
       "      <td>1.35</td>\n",
       "      <td>-1.258829</td>\n",
       "      <td>-0.895582</td>\n",
       "      <td>-1.245289</td>\n",
       "      <td>-0.867574</td>\n",
       "      <td>-1.371455</td>\n",
       "    </tr>\n",
       "    <tr>\n",
       "      <th>86</th>\n",
       "      <td>1.36</td>\n",
       "      <td>-1.286153</td>\n",
       "      <td>-0.910795</td>\n",
       "      <td>-1.262668</td>\n",
       "      <td>-0.879272</td>\n",
       "      <td>-1.417439</td>\n",
       "    </tr>\n",
       "    <tr>\n",
       "      <th>87</th>\n",
       "      <td>1.37</td>\n",
       "      <td>-1.313824</td>\n",
       "      <td>-0.926157</td>\n",
       "      <td>-1.280143</td>\n",
       "      <td>-0.891046</td>\n",
       "      <td>-1.464496</td>\n",
       "    </tr>\n",
       "    <tr>\n",
       "      <th>88</th>\n",
       "      <td>1.38</td>\n",
       "      <td>-1.341841</td>\n",
       "      <td>-0.941668</td>\n",
       "      <td>-1.297713</td>\n",
       "      <td>-0.902893</td>\n",
       "      <td>-1.512628</td>\n",
       "    </tr>\n",
       "    <tr>\n",
       "      <th>89</th>\n",
       "      <td>1.39</td>\n",
       "      <td>-1.370200</td>\n",
       "      <td>-0.957328</td>\n",
       "      <td>-1.315377</td>\n",
       "      <td>-0.914815</td>\n",
       "      <td>-1.561833</td>\n",
       "    </tr>\n",
       "    <tr>\n",
       "      <th>90</th>\n",
       "      <td>1.40</td>\n",
       "      <td>-1.398898</td>\n",
       "      <td>-0.973136</td>\n",
       "      <td>-1.333133</td>\n",
       "      <td>-0.926811</td>\n",
       "      <td>-1.612108</td>\n",
       "    </tr>\n",
       "    <tr>\n",
       "      <th>91</th>\n",
       "      <td>1.41</td>\n",
       "      <td>-1.427931</td>\n",
       "      <td>-0.989092</td>\n",
       "      <td>-1.350981</td>\n",
       "      <td>-0.938879</td>\n",
       "      <td>-1.663450</td>\n",
       "    </tr>\n",
       "    <tr>\n",
       "      <th>92</th>\n",
       "      <td>1.42</td>\n",
       "      <td>-1.457297</td>\n",
       "      <td>-1.005194</td>\n",
       "      <td>-1.368917</td>\n",
       "      <td>-0.951020</td>\n",
       "      <td>-1.715853</td>\n",
       "    </tr>\n",
       "    <tr>\n",
       "      <th>93</th>\n",
       "      <td>1.43</td>\n",
       "      <td>-1.486991</td>\n",
       "      <td>-1.021443</td>\n",
       "      <td>-1.386942</td>\n",
       "      <td>-0.963233</td>\n",
       "      <td>-1.769310</td>\n",
       "    </tr>\n",
       "    <tr>\n",
       "      <th>94</th>\n",
       "      <td>1.44</td>\n",
       "      <td>-1.517010</td>\n",
       "      <td>-1.037837</td>\n",
       "      <td>-1.405053</td>\n",
       "      <td>-0.975518</td>\n",
       "      <td>-1.823812</td>\n",
       "    </tr>\n",
       "    <tr>\n",
       "      <th>95</th>\n",
       "      <td>1.45</td>\n",
       "      <td>-1.547349</td>\n",
       "      <td>-1.054375</td>\n",
       "      <td>-1.423248</td>\n",
       "      <td>-0.987874</td>\n",
       "      <td>-1.879350</td>\n",
       "    </tr>\n",
       "    <tr>\n",
       "      <th>96</th>\n",
       "      <td>1.46</td>\n",
       "      <td>-1.578003</td>\n",
       "      <td>-1.071057</td>\n",
       "      <td>-1.441527</td>\n",
       "      <td>-1.000300</td>\n",
       "      <td>-1.935911</td>\n",
       "    </tr>\n",
       "  </tbody>\n",
       "</table>\n",
       "</div>"
      ],
      "text/plain": [
       "    Price_point    PE_ALL     PE_S0     PE_S1     PE_S2     PE_S3\n",
       "70         1.20 -0.891875 -0.685605 -0.997127 -0.701387 -0.806639\n",
       "71         1.21 -0.913805 -0.698536 -1.012897 -0.711912 -0.837352\n",
       "72         1.22 -0.936098 -0.711619 -1.028783 -0.722517 -0.869000\n",
       "73         1.23 -0.958753 -0.724855 -1.044783 -0.733203 -0.901599\n",
       "74         1.24 -0.981772 -0.738243 -1.060897 -0.743968 -0.935163\n",
       "75         1.25 -1.005154 -0.751785 -1.077123 -0.754814 -0.969707\n",
       "76         1.26 -1.028900 -0.765479 -1.093460 -0.765738 -1.005242\n",
       "77         1.27 -1.053008 -0.779327 -1.109908 -0.776742 -1.041782\n",
       "78         1.28 -1.077479 -0.793327 -1.126463 -0.787825 -1.079338\n",
       "79         1.29 -1.102311 -0.807479 -1.143127 -0.798986 -1.117921\n",
       "80         1.30 -1.127504 -0.821784 -1.159896 -0.810224 -1.157541\n",
       "81         1.31 -1.153057 -0.836241 -1.176770 -0.821541 -1.198206\n",
       "82         1.32 -1.178967 -0.850849 -1.193748 -0.832934 -1.239924\n",
       "83         1.33 -1.205234 -0.865609 -1.210828 -0.844405 -1.282701\n",
       "84         1.34 -1.231855 -0.880520 -1.228009 -0.855952 -1.326543\n",
       "85         1.35 -1.258829 -0.895582 -1.245289 -0.867574 -1.371455\n",
       "86         1.36 -1.286153 -0.910795 -1.262668 -0.879272 -1.417439\n",
       "87         1.37 -1.313824 -0.926157 -1.280143 -0.891046 -1.464496\n",
       "88         1.38 -1.341841 -0.941668 -1.297713 -0.902893 -1.512628\n",
       "89         1.39 -1.370200 -0.957328 -1.315377 -0.914815 -1.561833\n",
       "90         1.40 -1.398898 -0.973136 -1.333133 -0.926811 -1.612108\n",
       "91         1.41 -1.427931 -0.989092 -1.350981 -0.938879 -1.663450\n",
       "92         1.42 -1.457297 -1.005194 -1.368917 -0.951020 -1.715853\n",
       "93         1.43 -1.486991 -1.021443 -1.386942 -0.963233 -1.769310\n",
       "94         1.44 -1.517010 -1.037837 -1.405053 -0.975518 -1.823812\n",
       "95         1.45 -1.547349 -1.054375 -1.423248 -0.987874 -1.879350\n",
       "96         1.46 -1.578003 -1.071057 -1.441527 -1.000300 -1.935911"
      ]
     },
     "execution_count": 27,
     "metadata": {},
     "output_type": "execute_result"
    }
   ],
   "source": [
    "temp_df.iloc[70:97,:]"
   ]
  },
  {
   "cell_type": "markdown",
   "metadata": {},
   "source": [
    "1. For All = 1.25\n",
    "2. Career-Focused = 1.42\n",
    "3. Standard = 1.21\n",
    "4. Well-off = 1.46\n",
    "5. Few-Opportunites = 1.26"
   ]
  },
  {
   "cell_type": "code",
   "execution_count": 18,
   "metadata": {},
   "outputs": [
    {
     "data": {
      "image/png": "[encoded data removed]",
      "text/plain": [
       "<Figure size 648x432 with 1 Axes>"
      ]
     },
     "metadata": {},
     "output_type": "display_data"
    }
   ],
   "source": [
    "plt.figure(figsize=(9,6))\n",
    "plt.plot(price_range, temp_df['PE_ALL'], color='grey')\n",
    "plt.plot(price_range, temp_df['PE_S0'], color='g')\n",
    "plt.plot(price_range, temp_df['PE_S1'], color='b')\n",
    "plt.plot(price_range, temp_df['PE_S2'], color='r')\n",
    "plt.plot(price_range, temp_df['PE_S3'], color='orange')\n",
    "plt.xlabel('Price')\n",
    "plt.ylabel('Elasticity')\n",
    "plt.title('Price Elasticity of Purchase Probablity')\n",
    "plt.legend(['All','Career-Focused','Standard','Well-off','Few Opportunities'])\n",
    "plt.show()"
   ]
  },
  {
   "cell_type": "markdown",
   "metadata": {},
   "source": [
    "***As obvious, increase in price tend to lower the elasticity, but upto 1.1 we see a gradual decrease. <br>\n",
    "Increase in price from 0-1.25 --> gradual drop in purchase probability <br>\n",
    "Increse in price above 1.25 --> drasticaly reduce the purchase probability***"
   ]
  },
  {
   "cell_type": "code",
   "execution_count": null,
   "metadata": {},
   "outputs": [],
   "source": []
  }
 ],
 "metadata": {
  "kernelspec": {
   "display_name": "Python 3",
   "language": "python",
   "name": "python3"
  },
  "language_info": {
   "codemirror_mode": {
    "name": "ipython",
    "version": 3
   },
   "file_extension": ".py",
   "mimetype": "text/x-python",
   "name": "python",
   "nbconvert_exporter": "python",
   "pygments_lexer": "ipython3",
   "version": "3.8.5"
  }
 },
 "nbformat": 4,
 "nbformat_minor": 4
}
